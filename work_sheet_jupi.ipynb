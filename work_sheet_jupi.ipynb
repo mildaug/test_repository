{
 "cells": [
  {
   "cell_type": "code",
   "execution_count": 1,
   "metadata": {},
   "outputs": [
    {
     "name": "stdout",
     "output_type": "stream",
     "text": [
      "braskiniai\n",
      "avietiniai\n",
      "mango\n",
      "sokoladiniai\n",
      "vaniliniai\n"
     ]
    }
   ],
   "source": [
    "ledai = ['braskiniai', 'avietiniai', 'mango', 'sokoladiniai', 'vaniliniai']\n",
    "for ledu_skoniai in ledai:\n",
    "    print(ledu_skoniai)"
   ]
  },
  {
   "cell_type": "code",
   "execution_count": 13,
   "metadata": {},
   "outputs": [
    {
     "name": "stdout",
     "output_type": "stream",
     "text": [
      "1\n",
      "2\n",
      "4\n",
      "5\n"
     ]
    }
   ],
   "source": [
    "skaiciai = [1, 2, 3, 4, 5]\n",
    "for skaicius in skaiciai:\n",
    "    if skaicius == 3:\n",
    "        continue\n",
    "    print(skaicius)"
   ]
  },
  {
   "cell_type": "code",
   "execution_count": 15,
   "metadata": {},
   "outputs": [
    {
     "name": "stdout",
     "output_type": "stream",
     "text": [
      "1\n",
      "2\n",
      "3\n",
      "4\n",
      "5\n",
      "Ciklo vykdymas baigtas\n"
     ]
    }
   ],
   "source": [
    "skaiciai = [1, 2, 3, 4, 5]\n",
    "for skaicius in skaiciai:\n",
    "    print(skaicius)\n",
    "else:\n",
    "    print(\"Ciklo vykdymas baigtas\")"
   ]
  },
  {
   "cell_type": "code",
   "execution_count": 20,
   "metadata": {},
   "outputs": [
    {
     "name": "stdout",
     "output_type": "stream",
     "text": [
      "['braskiniai', 'avietiniai', 'mango', 'sokoladiniai', 'vaniliniai']\n",
      "[(0, 'braskiniai'), (1, 'avietiniai'), (2, 'mango'), (3, 'sokoladiniai'), (4, 'vaniliniai')]\n",
      "1: braskiniai\n",
      "2: avietiniai\n",
      "3: mango\n",
      "4: sokoladiniai\n",
      "5: vaniliniai\n"
     ]
    }
   ],
   "source": [
    "print(ledai)\n",
    "print(list(enumerate(ledai)))\n",
    "for eiles_nr, ledu_skoniai in enumerate(ledai):\n",
    "    print(f\"{(eiles_nr+1)}: {ledu_skoniai}\")"
   ]
  },
  {
   "cell_type": "code",
   "execution_count": 24,
   "metadata": {},
   "outputs": [
    {
     "name": "stdout",
     "output_type": "stream",
     "text": [
      "['A', 'B', 'C', 'D', 'E', 'F', 'G', 'H']\n",
      "[1, 2, 3, 4, 5, 6, 7, 8]\n"
     ]
    }
   ],
   "source": [
    "stulpeliai = list(\"ABCDEFGH\")\n",
    "eilutes = list(range(1,9))\n",
    "print(stulpeliai)\n",
    "print(eilutes)"
   ]
  }
 ],
 "metadata": {
  "kernelspec": {
   "display_name": "venv",
   "language": "python",
   "name": "python3"
  },
  "language_info": {
   "codemirror_mode": {
    "name": "ipython",
    "version": 3
   },
   "file_extension": ".py",
   "mimetype": "text/x-python",
   "name": "python",
   "nbconvert_exporter": "python",
   "pygments_lexer": "ipython3",
   "version": "3.11.3"
  },
  "orig_nbformat": 4
 },
 "nbformat": 4,
 "nbformat_minor": 2
}
