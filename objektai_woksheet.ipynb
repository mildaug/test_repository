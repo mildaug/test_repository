{
 "cells": [
  {
   "cell_type": "code",
   "execution_count": 12,
   "metadata": {},
   "outputs": [
    {
     "name": "stdout",
     "output_type": "stream",
     "text": [
      "Pareigos: Namu princese , atlyginimas: 1000000\n",
      "2000000\n",
      "Lota Lotaite Namu princese 2000000\n"
     ]
    }
   ],
   "source": [
    "class Darbuotojas:\n",
    "    vardas = 'Lota'\n",
    "    pavarde = 'Lotaite'\n",
    "    pareigos = 'Namu princese'\n",
    "    atlyginimas = '1000000'\n",
    "\n",
    "objektas = Darbuotojas()\n",
    "objektas.vardas = 'Lota'\n",
    "objektas.pavarde = 'Lotaite'\n",
    "objektas.pareigos = 'Namu princese' \n",
    "objektas.atlyginimas = '1000000'\n",
    "\n",
    "print('Pareigos: ' + objektas.pareigos, ', ' + 'atlyginimas: ' + objektas.atlyginimas)\n",
    "\n",
    "objektas.atlyginimas = '2000000'\n",
    "print(objektas.atlyginimas)\n",
    "\n",
    "print(objektas.vardas, objektas.pavarde, objektas.pareigos, objektas.atlyginimas)"
   ]
  },
  {
   "cell_type": "code",
   "execution_count": 1,
   "metadata": {},
   "outputs": [
    {
     "name": "stdout",
     "output_type": "stream",
     "text": [
      "Lota 3 1\n",
      "Lota 3 14\n",
      "Lota 3 5\n",
      "Lota 3 8\n",
      "Lota 4 8\n"
     ]
    }
   ],
   "source": [
    "class Gyvunas:\n",
    "    def __init__(self, vardas, amzius, svoris):\n",
    "        self.vardas = vardas\n",
    "        self.amzius = amzius\n",
    "        self.svoris = svoris\n",
    "\n",
    "    def __str__(self):\n",
    "        return f'{self.vardas} {self.amzius} {self.svoris}'\n",
    "\n",
    "    def mazesnis_svoris (self, atimti):\n",
    "        self.svoris = atimti\n",
    "\n",
    "    def didesnis_svoris (self, prideti):\n",
    "        self.svoris = prideti\n",
    "\n",
    "    def gimtadienis(self):\n",
    "        self.amzius += 1\n",
    "\n",
    "gyvunas = Gyvunas('Lota', 3, 15)\n",
    "\n",
    "gyvunas.mazesnis_svoris(1)\n",
    "print(gyvunas)\n",
    "\n",
    "gyvunas.mazesnis_svoris(14)\n",
    "print(gyvunas)\n",
    "\n",
    "gyvunas.didesnis_svoris(5)\n",
    "print(gyvunas)\n",
    "\n",
    "gyvunas.didesnis_svoris(8)\n",
    "print(gyvunas)\n",
    "\n",
    "gyvunas.gimtadienis()\n",
    "print(gyvunas)"
   ]
  },
  {
   "cell_type": "code",
   "execution_count": 25,
   "metadata": {},
   "outputs": [
    {
     "name": "stdout",
     "output_type": "stream",
     "text": [
      "Suma 100 nuskaityta. Naujas likutis 900\n",
      "Neteisingas slaptazodis\n",
      "Neteisingas slaptazodis\n",
      "Suma 200 iskaityta. Naujas likutis 1100\n"
     ]
    }
   ],
   "source": [
    "class BankoSaskaita:\n",
    "    def __init__(self, numeris, savininkas, balansas, kodas):\n",
    "        self.numeris = numeris\n",
    "        self.savininkas = savininkas\n",
    "        self.__balansas = balansas\n",
    "        self.__kodas = kodas\n",
    "\n",
    "    def mazesnis_likutis(self, suma, kodas):\n",
    "        if kodas == self.__kodas:\n",
    "            self.__balansas -= suma\n",
    "            print(f'Suma {suma} nuskaityta. Naujas likutis {self.__balansas}')\n",
    "        else:\n",
    "            print('Neteisingas slaptazodis')\n",
    "\n",
    "    def didesnis_likutis(self, suma, kodas):\n",
    "        if kodas == self.__kodas:\n",
    "            self.__balansas += suma\n",
    "            print(f'Suma {suma} iskaityta. Naujas likutis {self.__balansas}')\n",
    "        else:\n",
    "            print('Neteisingas slaptazodis')\n",
    "\n",
    "banko_saskaita = BankoSaskaita('LT1234567890', 'Lota Lotaite', 1000, 1234)\n",
    "\n",
    "banko_saskaita.mazesnis_likutis(100, 1234)\n",
    "banko_saskaita.mazesnis_likutis(200, 1236)\n",
    "banko_saskaita.didesnis_likutis(200, 1236)\n",
    "banko_saskaita.didesnis_likutis(200, 1234)"
   ]
  },
  {
   "cell_type": "code",
   "execution_count": 46,
   "metadata": {},
   "outputs": [
    {
     "name": "stdout",
     "output_type": "stream",
     "text": [
      "Traukinys\n",
      "Nesbo J.\n",
      "gera\n",
      "309\n"
     ]
    }
   ],
   "source": [
    "class Knyga:\n",
    "    def __init__(self, pavadinimas, autorius, bukle, puslapiai):\n",
    "        self.__pavadinimas = pavadinimas\n",
    "        self.__autorius = autorius\n",
    "        self.__bukle = bukle\n",
    "        self.__puslapiai = puslapiai\n",
    "\n",
    "    def gauti_pavadinima(self):\n",
    "        return self.__pavadinimas\n",
    "\n",
    "    def gauti_autoriu(self):\n",
    "        return self.__autorius\n",
    "\n",
    "    def gauti_bukle(self):\n",
    "        return self.__bukle\n",
    "\n",
    "    def gauti_puslapius(self):\n",
    "        return self.__puslapiai\n",
    "\n",
    "    def __nauja_bukle(self, bukle):\n",
    "        self.__bukle = bukle\n",
    "\n",
    "    def __naujas_puslapiu_skaicius(self, puslapiai):\n",
    "        self.__puslapiai -= puslapiai\n",
    "\n",
    "    def pakeisti_bukle(self, bukle):\n",
    "        self.__nauja_bukle(bukle)\n",
    "\n",
    "    def pakites_puslapiu_skaicius(self, puslapiai):\n",
    "        self.__naujas_puslapiu_skaicius(puslapiai)\n",
    "\n",
    "knyga = Knyga('Traukinys', \"Nesbo J.\", 'nauja', 359)\n",
    "\n",
    "knyga.pakeisti_bukle('gera')\n",
    "knyga.pakites_puslapiu_skaicius(50)\n",
    "print(knyga.gauti_pavadinima())\n",
    "print(knyga.gauti_autoriu())\n",
    "print(knyga.gauti_bukle())\n",
    "print(knyga.gauti_puslapius())       \n"
   ]
  },
  {
   "cell_type": "code",
   "execution_count": 73,
   "metadata": {},
   "outputs": [
    {
     "name": "stdout",
     "output_type": "stream",
     "text": [
      "Lota\n",
      "Loju\n",
      "Greitai\n",
      "Beta\n",
      "Miaukiu\n",
      "Graksciai\n"
     ]
    }
   ],
   "source": [
    "class Gyvunas:\n",
    "    def __init__(self, vardas):\n",
    "        self.vardas = vardas\n",
    "    \n",
    "    def balsas(self):\n",
    "        pass\n",
    "\n",
    "    def judeti(self):\n",
    "        pass\n",
    "\n",
    "\n",
    "class Suo(Gyvunas):\n",
    "    def balsas(self):\n",
    "        print('Loju')\n",
    "\n",
    "    def judeti(self):\n",
    "        print('Greitai')\n",
    "    \n",
    "\n",
    "class Kate(Gyvunas):\n",
    "    def balsas(self):\n",
    "        print('Miaukiu')\n",
    "\n",
    "    def judeti(self):\n",
    "        print('Graksciai')\n",
    "\n",
    "\n",
    "suo = Suo('Lota')\n",
    "print(suo.vardas)\n",
    "suo.balsas()\n",
    "suo.judeti()\n",
    "\n",
    "kate = Kate('Beta')\n",
    "print(kate.vardas)\n",
    "kate.balsas()\n",
    "kate.judeti()\n"
   ]
  },
  {
   "cell_type": "code",
   "execution_count": 74,
   "metadata": {},
   "outputs": [
    {
     "name": "stdout",
     "output_type": "stream",
     "text": [
      "True\n"
     ]
    }
   ],
   "source": [
    "print(isinstance(kate, Gyvunas))"
   ]
  },
  {
   "cell_type": "code",
   "execution_count": 75,
   "metadata": {},
   "outputs": [
    {
     "name": "stdout",
     "output_type": "stream",
     "text": [
      "Baseino talpa: 1000 litrų, šiuo metu baseinas užpildytas: 300 litrais\n",
      "Išpilta 50 litrų vandens\n",
      "Įpilta 480 litrų vandens\n",
      "730\n"
     ]
    }
   ],
   "source": [
    "class Baseinas:\n",
    "\n",
    "  def __init__(self, talpa, dabartinis_kiekis):\n",
    "    self.__talpa = talpa\n",
    "    self.__dabartinis_kiekis = dabartinis_kiekis\n",
    "\n",
    "  def __keitimas(self, kiekis):\n",
    "    self.__dabartinis_kiekis += kiekis\n",
    "\n",
    "  def pilamas_vanduo(self, kiekis):\n",
    "    if self.__dabartinis_kiekis + kiekis <= self.__talpa:\n",
    "      self.__keitimas(kiekis)\n",
    "      print(f'Įpilta {kiekis} litrų vandens')\n",
    "    else:\n",
    "      print(f'Negalima įpilti {kiekis} litrų vandens, nes viršytų talpą')\n",
    "\n",
    "  def nuleisti_vandeni(self, kiekis):\n",
    "    if self.__dabartinis_kiekis - kiekis >= 0:\n",
    "      self.__keitimas(-kiekis)\n",
    "      print(f'Išpilta {kiekis} litrų vandens')\n",
    "    else:\n",
    "      print(\n",
    "        f'Negalima išpilti {kiekis} litrų vandens, nes dabar yra tik {self.__dabartinis_kiekis} litrų'\n",
    "      )\n",
    "\n",
    "  def get_talpa(self):\n",
    "    return self.__talpa\n",
    "  \n",
    "  def get_dabartinis_kiekis(self):\n",
    "    return self.__dabartinis_kiekis\n",
    "\n",
    "\n",
    "baseinas = Baseinas(1000, 300)\n",
    "print(f'Baseino talpa: {baseinas.get_talpa()} litrų, šiuo metu baseinas užpildytas: {baseinas.get_dabartinis_kiekis()} litrais')\n",
    "\n",
    "baseinas.nuleisti_vandeni(50)\n",
    "baseinas.pilamas_vanduo(480)\n",
    "print(baseinas.get_dabartinis_kiekis())"
   ]
  },
  {
   "cell_type": "code",
   "execution_count": 1,
   "metadata": {},
   "outputs": [
    {
     "name": "stdout",
     "output_type": "stream",
     "text": [
      "     April 2023\n",
      "Mo Tu We Th Fr Sa Su\n",
      "                1  2\n",
      " 3  4  5  6  7  8  9\n",
      "10 11 12 13 14 15 16\n",
      "17 18 19 20 21 22 23\n",
      "24 25 26 27 28 29 30\n",
      "\n",
      "Savaitgalio dienų skaičius šiame mėnesyje: 10\n"
     ]
    }
   ],
   "source": [
    "import calendar\n",
    "\n",
    "def spausdinti_menesio_kalendoriu_suskaiciuojant_savaitgalius(metai, menesis):\n",
    "    print(calendar.month(metai, menesis))\n",
    "\n",
    "    _, menesio_ilgis = calendar.monthrange(metai, menesis)\n",
    "\n",
    "    savaitgalio_dienos = 0\n",
    "    for diena in range(1, menesio_ilgis + 1):\n",
    "        savaites_diena = calendar.weekday(metai, menesis, diena)\n",
    "        if savaites_diena == 5 or savaites_diena == 6:\n",
    "            savaitgalio_dienos += 1\n",
    "\n",
    "    print(f\"Savaitgalio dienų skaičius šiame mėnesyje: {savaitgalio_dienos}\")\n",
    "\n",
    "# Pavyzdys su 2023-ųjų balandžio mėnesiu\n",
    "spausdinti_menesio_kalendoriu_suskaiciuojant_savaitgalius(2023, 4)"
   ]
  },
  {
   "cell_type": "code",
   "execution_count": 2,
   "metadata": {},
   "outputs": [
    {
     "ename": "TypeError",
     "evalue": "Baseinas.__init__() takes 2 positional arguments but 3 were given",
     "output_type": "error",
     "traceback": [
      "\u001b[1;31m---------------------------------------------------------------------------\u001b[0m",
      "\u001b[1;31mTypeError\u001b[0m                                 Traceback (most recent call last)",
      "Cell \u001b[1;32mIn[2], line 16\u001b[0m\n\u001b[0;32m     13\u001b[0m         \u001b[39mif\u001b[39;00m \u001b[39mself\u001b[39m\u001b[39m.\u001b[39mkiekis \u001b[39m<\u001b[39m \u001b[39m0\u001b[39m:\n\u001b[0;32m     14\u001b[0m             \u001b[39mself\u001b[39m\u001b[39m.\u001b[39mkiekis \u001b[39m=\u001b[39m \u001b[39m0\u001b[39m\n\u001b[1;32m---> 16\u001b[0m baseinas \u001b[39m=\u001b[39m Baseinas(\u001b[39m5000\u001b[39;49m, \u001b[39m0\u001b[39;49m)\n\u001b[0;32m     18\u001b[0m baseinas\u001b[39m.\u001b[39mipilti(\u001b[39m600\u001b[39m)\n\u001b[0;32m     19\u001b[0m \u001b[39mprint\u001b[39m(baseinas\u001b[39m.\u001b[39mkiekis)\n",
      "\u001b[1;31mTypeError\u001b[0m: Baseinas.__init__() takes 2 positional arguments but 3 were given"
     ]
    }
   ],
   "source": [
    "class Baseinas():\n",
    "    def __init__(self, talpa):\n",
    "        self.talpa = talpa\n",
    "        self.kiekis = 0\n",
    "\n",
    "    def ipilti(self, l):\n",
    "        self.kiekis += l\n",
    "        if self.kiekis > self.talpa:\n",
    "            print('Negalima ipilti, virsys talpa')\n",
    "\n",
    "    def ispilti(self, l):\n",
    "        self.kiekis -= l\n",
    "        if self.kiekis < 0:\n",
    "            self.kiekis = 0\n",
    "\n",
    "baseinas = Baseinas(5000, 0)\n",
    "\n",
    "baseinas.ipilti(600)\n",
    "print(baseinas.kiekis)\n",
    "\n",
    "baseinas.ispilti(200)\n",
    "print(baseinas.ispilti)"
   ]
  }
 ],
 "metadata": {
  "kernelspec": {
   "display_name": "venv",
   "language": "python",
   "name": "python3"
  },
  "language_info": {
   "codemirror_mode": {
    "name": "ipython",
    "version": 3
   },
   "file_extension": ".py",
   "mimetype": "text/x-python",
   "name": "python",
   "nbconvert_exporter": "python",
   "pygments_lexer": "ipython3",
   "version": "3.11.3"
  },
  "orig_nbformat": 4
 },
 "nbformat": 4,
 "nbformat_minor": 2
}
