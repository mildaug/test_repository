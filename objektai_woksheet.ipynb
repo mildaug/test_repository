{
 "cells": [
  {
   "cell_type": "code",
   "execution_count": 12,
   "metadata": {},
   "outputs": [
    {
     "name": "stdout",
     "output_type": "stream",
     "text": [
      "Pareigos: Namu princese , atlyginimas: 1000000\n",
      "2000000\n",
      "Lota Lotaite Namu princese 2000000\n"
     ]
    }
   ],
   "source": [
    "class Darbuotojas:\n",
    "    vardas = 'Lota'\n",
    "    pavarde = 'Lotaite'\n",
    "    pareigos = 'Namu princese'\n",
    "    atlyginimas = '1000000'\n",
    "\n",
    "objektas = Darbuotojas()\n",
    "objektas.vardas = 'Lota'\n",
    "objektas.pavarde = 'Lotaite'\n",
    "objektas.pareigos = 'Namu princese' \n",
    "objektas.atlyginimas = '1000000'\n",
    "\n",
    "print('Pareigos: ' + objektas.pareigos, ', ' + 'atlyginimas: ' + objektas.atlyginimas)\n",
    "\n",
    "objektas.atlyginimas = '2000000'\n",
    "print(objektas.atlyginimas)\n",
    "\n",
    "print(objektas.vardas, objektas.pavarde, objektas.pareigos, objektas.atlyginimas)"
   ]
  },
  {
   "cell_type": "code",
   "execution_count": 40,
   "metadata": {},
   "outputs": [
    {
     "name": "stdout",
     "output_type": "stream",
     "text": [
      "Lota 3: 1\n",
      "Lota 3: 14\n",
      "Lota 3: 5\n",
      "Lota 3: 8\n",
      "Lota 4: 8\n"
     ]
    }
   ],
   "source": [
    "class Gyvunas:\n",
    "    def __init__(self, vardas, amzius, svoris):\n",
    "        self.vardas = vardas\n",
    "        self.amzius = amzius\n",
    "        self.svoris = svoris\n",
    "\n",
    "    def __str__(self):\n",
    "        return f'{self.vardas} {self.amzius}: {self.svoris}'\n",
    "\n",
    "    def mazesnis_svoris (self, atimti):\n",
    "        self.svoris = atimti\n",
    "\n",
    "    def didesnis_svoris (self, prideti):\n",
    "        self.svoris = prideti\n",
    "\n",
    "    def gimtadienis(self):\n",
    "        self.amzius += 1\n",
    "\n",
    "gyvunas = Gyvunas('Lota', 3, 15)\n",
    "\n",
    "gyvunas.mazesnis_svoris(1)\n",
    "print(gyvunas)\n",
    "\n",
    "gyvunas.mazesnis_svoris(14)\n",
    "print(gyvunas)\n",
    "\n",
    "gyvunas.didesnis_svoris(5)\n",
    "print(gyvunas)\n",
    "\n",
    "gyvunas.didesnis_svoris(8)\n",
    "print(gyvunas)\n",
    "\n",
    "gyvunas.gimtadienis()\n",
    "print(gyvunas)"
   ]
  }
 ],
 "metadata": {
  "kernelspec": {
   "display_name": "venv",
   "language": "python",
   "name": "python3"
  },
  "language_info": {
   "codemirror_mode": {
    "name": "ipython",
    "version": 3
   },
   "file_extension": ".py",
   "mimetype": "text/x-python",
   "name": "python",
   "nbconvert_exporter": "python",
   "pygments_lexer": "ipython3",
   "version": "3.11.3"
  },
  "orig_nbformat": 4
 },
 "nbformat": 4,
 "nbformat_minor": 2
}
