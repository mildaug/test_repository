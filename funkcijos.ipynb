{
 "cells": [
  {
   "cell_type": "code",
   "execution_count": 33,
   "metadata": {},
   "outputs": [
    {
     "name": "stdout",
     "output_type": "stream",
     "text": [
      "45\n"
     ]
    }
   ],
   "source": [
    "def didziausias_skaicius(skaiciai):\n",
    "    didziausias = skaiciai[0]\n",
    "    for skaicius in skaiciai:\n",
    "        if skaicius > didziausias:\n",
    "            didziausias = skaicius\n",
    "    return didziausias\n",
    "\n",
    "skaiciai = [12, 45, 6, 45, 8, 27]\n",
    "didziausias = didziausias_skaicius(skaiciai)\n",
    "print(didziausias)\n"
   ]
  },
  {
   "cell_type": "code",
   "execution_count": 34,
   "metadata": {},
   "outputs": [
    {
     "name": "stdout",
     "output_type": "stream",
     "text": [
      "5\n",
      "10\n"
     ]
    }
   ],
   "source": [
    "def didziausias(*args):\n",
    "    didziausia_reiksme = args[0]\n",
    "    for arg in args:\n",
    "        if arg > didziausia_reiksme:\n",
    "            didziausia_reiksme = arg\n",
    "    return didziausia_reiksme\n",
    "\n",
    "print(didziausias(1, 2, 3, 4, 5))\n",
    "print(didziausias(-5, 10, 3, -2))"
   ]
  },
  {
   "cell_type": "code",
   "execution_count": 35,
   "metadata": {},
   "outputs": [
    {
     "name": "stdout",
     "output_type": "stream",
     "text": [
      "9\n",
      "14\n"
     ]
    }
   ],
   "source": [
    "def didziausias(*args):\n",
    "    didziausias_skaicius = args[0]\n",
    "    for arg in args:\n",
    "        if arg > didziausias_skaicius:\n",
    "            didziausias_skaicius = arg\n",
    "    return didziausias_skaicius\n",
    "\n",
    "print(didziausias(1, 4, 7, 9,7))\n",
    "print(didziausias(4, 14, 6, 9))\n",
    "    "
   ]
  }
 ],
 "metadata": {
  "kernelspec": {
   "display_name": "venv",
   "language": "python",
   "name": "python3"
  },
  "language_info": {
   "codemirror_mode": {
    "name": "ipython",
    "version": 3
   },
   "file_extension": ".py",
   "mimetype": "text/x-python",
   "name": "python",
   "nbconvert_exporter": "python",
   "pygments_lexer": "ipython3",
   "version": "3.11.3"
  },
  "orig_nbformat": 4
 },
 "nbformat": 4,
 "nbformat_minor": 2
}
