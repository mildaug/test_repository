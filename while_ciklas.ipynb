{
 "cells": [
  {
   "cell_type": "code",
   "execution_count": 11,
   "metadata": {},
   "outputs": [
    {
     "name": "stdout",
     "output_type": "stream",
     "text": [
      "10\n",
      "9\n",
      "8\n",
      "7\n",
      "6\n",
      "5\n",
      "4\n",
      "3\n",
      "2\n",
      "1\n",
      "0\n",
      "-1\n"
     ]
    }
   ],
   "source": [
    "skaicius = 10\n",
    "while skaicius >= -1:\n",
    "    print(skaicius)\n",
    "    skaicius -= 1\n"
   ]
  },
  {
   "cell_type": "code",
   "execution_count": 21,
   "metadata": {},
   "outputs": [
    {
     "name": "stdout",
     "output_type": "stream",
     "text": [
      "4\n",
      "3\n",
      "2\n",
      "1\n",
      "Ciklas sustabdytas, nes skaičius 0\n",
      "-1\n",
      "-2\n",
      "-3\n",
      "-4\n",
      "Ciklas sustabdytas, nes skaičius -5\n"
     ]
    }
   ],
   "source": [
    "skaicius = 5\n",
    "while skaicius >= -10:\n",
    "    skaicius -= 1\n",
    "    if skaicius == -5:\n",
    "        print('Ciklas sustabdytas, skaičius -5')\n",
    "        break\n",
    "    elif skaicius == 0:\n",
    "        print('Ciklas sustabdytas, skaičius 0')\n",
    "        continue\n",
    "    print(skaicius)\n",
    "   "
   ]
  },
  {
   "cell_type": "code",
   "execution_count": 18,
   "metadata": {},
   "outputs": [
    {
     "name": "stdout",
     "output_type": "stream",
     "text": [
      "2\n"
     ]
    }
   ],
   "source": [
    "suma = 0\n",
    "while True:\n",
    "    skaicius = int(input('Įveskite skaičių: '))\n",
    "    if skaicius < 0:\n",
    "        break\n",
    "    suma += skaicius\n",
    "print(suma)"
   ]
  }
 ],
 "metadata": {
  "kernelspec": {
   "display_name": "venv",
   "language": "python",
   "name": "python3"
  },
  "language_info": {
   "codemirror_mode": {
    "name": "ipython",
    "version": 3
   },
   "file_extension": ".py",
   "mimetype": "text/x-python",
   "name": "python",
   "nbconvert_exporter": "python",
   "pygments_lexer": "ipython3",
   "version": "3.11.3"
  },
  "orig_nbformat": 4
 },
 "nbformat": 4,
 "nbformat_minor": 2
}
