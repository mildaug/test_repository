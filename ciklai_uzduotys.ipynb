{
 "cells": [
  {
   "cell_type": "code",
   "execution_count": 1,
   "metadata": {},
   "outputs": [
    {
     "name": "stdout",
     "output_type": "stream",
     "text": [
      "braskiniai\n",
      "avietiniai\n",
      "mango\n",
      "sokoladiniai\n",
      "vaniliniai\n"
     ]
    }
   ],
   "source": [
    "ledai = ['braskiniai', 'avietiniai', 'mango', 'sokoladiniai', 'vaniliniai']\n",
    "for ledu_skoniai in ledai:\n",
    "    print(ledu_skoniai)"
   ]
  },
  {
   "cell_type": "code",
   "execution_count": 9,
   "metadata": {},
   "outputs": [
    {
     "name": "stdout",
     "output_type": "stream",
     "text": [
      "5: milda, simboliai: 5\n",
      "5: lego, simboliai: 4\n",
      "5: gele, simboliai: 4\n",
      "5: lele, simboliai: 4\n",
      "5: uoga, simboliai: 4\n",
      "Is viso zodziu:  5\n"
     ]
    }
   ],
   "source": [
    "ivesti_zodziai = []\n",
    "for zodis in range(5):\n",
    "    ivesti_zodziai.append(input('Jusu zodis:'))\n",
    "for zodzio_numeris, zodis in enumerate(ivesti_zodziai):\n",
    "    print(f'{numeris + 1}: {zodis}, simboliai: {len(zodis)}')\n",
    "print('Is viso zodziu: ', len(zodziai))"
   ]
  },
  {
   "cell_type": "code",
   "execution_count": 16,
   "metadata": {},
   "outputs": [
    {
     "name": "stdout",
     "output_type": "stream",
     "text": [
      "Nekeliamieji metai\n"
     ]
    }
   ],
   "source": [
    "metai = int(input('Įveskite metus: '))\n",
    "if (metai % 4) == 0:\n",
    "    print('Keliamieji metai')\n",
    "else:\n",
    "    print('Nekeliamieji metai')"
   ]
  },
  {
   "cell_type": "code",
   "execution_count": 14,
   "metadata": {},
   "outputs": [
    {
     "name": "stdout",
     "output_type": "stream",
     "text": [
      "2000\n",
      "2004\n",
      "2008\n",
      "2012\n",
      "2016\n",
      "2020\n",
      "2024\n",
      "2028\n",
      "2032\n",
      "2036\n",
      "2040\n",
      "2044\n",
      "2048\n",
      "2052\n",
      "2056\n",
      "2060\n",
      "2064\n",
      "2068\n",
      "2072\n",
      "2076\n",
      "2080\n",
      "2084\n",
      "2088\n",
      "2092\n",
      "2096\n"
     ]
    }
   ],
   "source": [
    "for metai in range(2000, 2100):\n",
    "    if metai % 4 == 0:\n",
    "        print(metai)\n",
    "    else:\n",
    "        continue"
   ]
  }
 ],
 "metadata": {
  "kernelspec": {
   "display_name": "venv",
   "language": "python",
   "name": "python3"
  },
  "language_info": {
   "codemirror_mode": {
    "name": "ipython",
    "version": 3
   },
   "file_extension": ".py",
   "mimetype": "text/x-python",
   "name": "python",
   "nbconvert_exporter": "python",
   "pygments_lexer": "ipython3",
   "version": "3.11.3"
  },
  "orig_nbformat": 4
 },
 "nbformat": 4,
 "nbformat_minor": 2
}
