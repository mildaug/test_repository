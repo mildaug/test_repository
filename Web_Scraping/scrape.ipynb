{
 "cells": [
  {
   "cell_type": "code",
   "execution_count": 35,
   "metadata": {},
   "outputs": [
    {
     "name": "stdout",
     "output_type": "stream",
     "text": [
      "<class 'bs4.BeautifulSoup'>\n"
     ]
    }
   ],
   "source": [
    "from bs4 import BeautifulSoup\n",
    "\n",
    "html = \"\"\"\n",
    "<!DOCTYPE html>\n",
    "<html lang=\"en\">\n",
    "<head>\n",
    "  <meta charset=\"UTF-8\">\n",
    "  <title>First HTML Page</title>\n",
    "</head>\n",
    "<body>\n",
    "  <div id=\"first\">\n",
    "    <h3 data-example=\"yes\">hi</h3>\n",
    "    <p>more text.</p>\n",
    "  </div>\n",
    "  <ol>\n",
    "    <li class=\"special\">This list item is special.</li>\n",
    "    <li class=\"special\">This list item is also special.</li>\n",
    "    <li class=\"not-special\">This list item is not special.</li>\n",
    "  </ol>\n",
    "  <div data-example=\"yes\">bye</div>\n",
    "</body>\n",
    "</html>\n",
    "\"\"\"\n",
    "\n",
    "soup = BeautifulSoup(html, \"html.parser\")\n",
    "print(type(soup))"
   ]
  },
  {
   "cell_type": "code",
   "execution_count": 2,
   "metadata": {},
   "outputs": [
    {
     "name": "stdout",
     "output_type": "stream",
     "text": [
      "<body>\n",
      "<div id=\"first\">\n",
      "<h3 data-example=\"yes\">hi</h3>\n",
      "<p>more text.</p>\n",
      "</div>\n",
      "<ol>\n",
      "<li class=\"special\">This list item is special.</li>\n",
      "<li class=\"special\">This list item is also special.</li>\n",
      "<li>This list item is not special.</li>\n",
      "</ol>\n",
      "<div data-example=\"yes\">bye</div>\n",
      "</body>\n"
     ]
    }
   ],
   "source": [
    "print(soup.body)"
   ]
  },
  {
   "cell_type": "code",
   "execution_count": 3,
   "metadata": {},
   "outputs": [
    {
     "name": "stdout",
     "output_type": "stream",
     "text": [
      "<div id=\"first\">\n",
      "<h3 data-example=\"yes\">hi</h3>\n",
      "<p>more text.</p>\n",
      "</div>\n"
     ]
    }
   ],
   "source": [
    "print(soup.body.div)"
   ]
  },
  {
   "cell_type": "code",
   "execution_count": 7,
   "metadata": {},
   "outputs": [
    {
     "name": "stdout",
     "output_type": "stream",
     "text": [
      "<div id=\"first\">\n",
      "<h3 data-example=\"yes\">hi</h3>\n",
      "<p>more text.</p>\n",
      "</div>\n"
     ]
    }
   ],
   "source": [
    "print(soup.find('div'))"
   ]
  },
  {
   "cell_type": "code",
   "execution_count": 5,
   "metadata": {},
   "outputs": [
    {
     "name": "stdout",
     "output_type": "stream",
     "text": [
      "[<div id=\"first\">\n",
      "<h3 data-example=\"yes\">hi</h3>\n",
      "<p>more text.</p>\n",
      "</div>, <div data-example=\"yes\">bye</div>]\n"
     ]
    }
   ],
   "source": [
    "print(soup.find_all('div'))"
   ]
  },
  {
   "cell_type": "code",
   "execution_count": 8,
   "metadata": {},
   "outputs": [
    {
     "name": "stdout",
     "output_type": "stream",
     "text": [
      "<div id=\"first\">\n",
      "<h3 data-example=\"yes\">hi</h3>\n",
      "<p>more text.</p>\n",
      "</div>\n",
      "<div data-example=\"yes\">bye</div>\n"
     ]
    }
   ],
   "source": [
    "for div in soup.find_all('div'):\n",
    "    print(div)"
   ]
  },
  {
   "cell_type": "code",
   "execution_count": 9,
   "metadata": {},
   "outputs": [
    {
     "name": "stdout",
     "output_type": "stream",
     "text": [
      "[<li class=\"special\">This list item is special.</li>, <li class=\"special\">This list item is also special.</li>]\n"
     ]
    }
   ],
   "source": [
    "print(soup.find_all(class_='special'))"
   ]
  },
  {
   "cell_type": "code",
   "execution_count": 10,
   "metadata": {},
   "outputs": [
    {
     "name": "stdout",
     "output_type": "stream",
     "text": [
      "[<h3 data-example=\"yes\">hi</h3>, <div data-example=\"yes\">bye</div>]\n"
     ]
    }
   ],
   "source": [
    "print(soup.find_all(attrs={'data-example': 'yes'}))"
   ]
  },
  {
   "cell_type": "code",
   "execution_count": 11,
   "metadata": {},
   "outputs": [
    {
     "name": "stdout",
     "output_type": "stream",
     "text": [
      "[<div id=\"first\">\n",
      "<h3 data-example=\"yes\">hi</h3>\n",
      "<p>more text.</p>\n",
      "</div>]\n"
     ]
    }
   ],
   "source": [
    "print(soup.select('#first'))"
   ]
  },
  {
   "cell_type": "code",
   "execution_count": 12,
   "metadata": {},
   "outputs": [
    {
     "name": "stdout",
     "output_type": "stream",
     "text": [
      "[<li class=\"special\">This list item is special.</li>, <li class=\"special\">This list item is also special.</li>]\n"
     ]
    }
   ],
   "source": [
    "print(soup.select('.special'))"
   ]
  },
  {
   "cell_type": "code",
   "execution_count": 16,
   "metadata": {},
   "outputs": [
    {
     "name": "stdout",
     "output_type": "stream",
     "text": [
      "[<h3 data-example=\"yes\">hi</h3>, <div data-example=\"yes\">bye</div>]\n"
     ]
    }
   ],
   "source": [
    "print(soup.select('[data-example=\"yes\"]'))"
   ]
  },
  {
   "cell_type": "code",
   "execution_count": 19,
   "metadata": {},
   "outputs": [
    {
     "name": "stdout",
     "output_type": "stream",
     "text": [
      "h3 hi\n",
      "{'data-example': 'yes'}\n",
      "div bye\n",
      "{'data-example': 'yes'}\n"
     ]
    }
   ],
   "source": [
    "yes_list = soup.select('[data-example=\"yes\"]')\n",
    "for yes in yes_list:\n",
    "    print(yes.name, yes.get_text())\n",
    "    print(yes.attrs)"
   ]
  },
  {
   "cell_type": "code",
   "execution_count": 20,
   "metadata": {},
   "outputs": [
    {
     "name": "stdout",
     "output_type": "stream",
     "text": [
      "first\n"
     ]
    }
   ],
   "source": [
    "attribute = soup.select('div')[0]['id']\n",
    "print(attribute)"
   ]
  },
  {
   "cell_type": "code",
   "execution_count": 21,
   "metadata": {},
   "outputs": [
    {
     "name": "stdout",
     "output_type": "stream",
     "text": [
      "['\\n', <h3 data-example=\"yes\">hi</h3>, '\\n', <p>more text.</p>, '\\n']\n"
     ]
    }
   ],
   "source": [
    "print(soup.div.contents)"
   ]
  },
  {
   "cell_type": "code",
   "execution_count": 26,
   "metadata": {},
   "outputs": [
    {
     "data": {
      "text/plain": [
       "<li class=\"special\">This list item is also special.</li>"
      ]
     },
     "execution_count": 26,
     "metadata": {},
     "output_type": "execute_result"
    }
   ],
   "source": [
    "li = soup.find('li')\n",
    "li.next_sibling.next_sibling"
   ]
  },
  {
   "cell_type": "code",
   "execution_count": 27,
   "metadata": {},
   "outputs": [
    {
     "data": {
      "text/plain": [
       "<ol>\n",
       "<li class=\"special\">This list item is special.</li>\n",
       "<li class=\"special\">This list item is also special.</li>\n",
       "<li>This list item is not special.</li>\n",
       "</ol>"
      ]
     },
     "execution_count": 27,
     "metadata": {},
     "output_type": "execute_result"
    }
   ],
   "source": [
    "li.parent"
   ]
  },
  {
   "cell_type": "code",
   "execution_count": 28,
   "metadata": {},
   "outputs": [
    {
     "data": {
      "text/plain": [
       "[<li class=\"special\">This list item is also special.</li>,\n",
       " <li>This list item is not special.</li>]"
      ]
     },
     "execution_count": 28,
     "metadata": {},
     "output_type": "execute_result"
    }
   ],
   "source": [
    "li.find_next_siblings()"
   ]
  },
  {
   "cell_type": "code",
   "execution_count": 36,
   "metadata": {},
   "outputs": [
    {
     "data": {
      "text/plain": [
       "<li class=\"not-special\">This list item is not special.</li>"
      ]
     },
     "execution_count": 36,
     "metadata": {},
     "output_type": "execute_result"
    }
   ],
   "source": [
    "li = soup.find('li')\n",
    "li.find_next_sibling(class_='not-special')"
   ]
  },
  {
   "cell_type": "code",
   "execution_count": 37,
   "metadata": {},
   "outputs": [
    {
     "name": "stdout",
     "output_type": "stream",
     "text": [
      "first\n"
     ]
    }
   ],
   "source": [
    "li = soup.find('li')\n",
    "res = li.find_parent().find_previous_sibling()['id']\n",
    "print(res)"
   ]
  },
  {
   "cell_type": "code",
   "execution_count": 39,
   "metadata": {},
   "outputs": [
    {
     "name": "stdout",
     "output_type": "stream",
     "text": [
      "hi\n"
     ]
    }
   ],
   "source": [
    "res = soup.body.next_element.next_element.next_element.next_element.get_text()\n",
    "print(res)"
   ]
  },
  {
   "cell_type": "code",
   "execution_count": 40,
   "metadata": {},
   "outputs": [],
   "source": [
    "import requests"
   ]
  },
  {
   "cell_type": "code",
   "execution_count": 49,
   "metadata": {},
   "outputs": [
    {
     "data": {
      "text/plain": [
       "'HTML5'"
      ]
     },
     "execution_count": 49,
     "metadata": {},
     "output_type": "execute_result"
    }
   ],
   "source": [
    "response = requests.get('https://en.wikipedia.org/wiki/HTML5')\n",
    "if response.status_code == 200:\n",
    "    html5 = response.content\n",
    "html5_soup = BeautifulSoup(html5, 'html.parser')\n",
    "html5_soup.select('h1')[0].get_text()"
   ]
  }
 ],
 "metadata": {
  "kernelspec": {
   "display_name": "venv",
   "language": "python",
   "name": "python3"
  },
  "language_info": {
   "codemirror_mode": {
    "name": "ipython",
    "version": 3
   },
   "file_extension": ".py",
   "mimetype": "text/x-python",
   "name": "python",
   "nbconvert_exporter": "python",
   "pygments_lexer": "ipython3",
   "version": "3.10.6"
  },
  "orig_nbformat": 4
 },
 "nbformat": 4,
 "nbformat_minor": 2
}
