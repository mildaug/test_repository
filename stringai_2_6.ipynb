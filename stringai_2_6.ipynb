{
 "cells": [
  {
   "attachments": {},
   "cell_type": "markdown",
   "metadata": {},
   "source": [
    "Simboliai"
   ]
  },
  {
   "cell_type": "code",
   "execution_count": 4,
   "metadata": {},
   "outputs": [
    {
     "name": "stdout",
     "output_type": "stream",
     "text": [
      "Sveiki\n",
      "Labas\n"
     ]
    }
   ],
   "source": [
    "print('Sveiki')\n",
    "print('Labas')"
   ]
  },
  {
   "cell_type": "code",
   "execution_count": 6,
   "metadata": {},
   "outputs": [
    {
     "name": "stdout",
     "output_type": "stream",
     "text": [
      "SVEIKI STUDENTAI\n"
     ]
    }
   ],
   "source": [
    "sakinys = 'Sveiki studentai'\n",
    "sakinys_mazosiom = sakinys.upper()\n",
    "print(sakinys_mazosiom)"
   ]
  },
  {
   "cell_type": "code",
   "execution_count": 7,
   "metadata": {},
   "outputs": [
    {
     "name": "stdout",
     "output_type": "stream",
     "text": [
      "7\n"
     ]
    }
   ],
   "source": [
    "print(sakinys.find('stud'))"
   ]
  },
  {
   "cell_type": "code",
   "execution_count": 12,
   "metadata": {},
   "outputs": [
    {
     "name": "stdout",
     "output_type": "stream",
     "text": [
      "0\n"
     ]
    }
   ],
   "source": [
    "print(sakinys.find('S'))"
   ]
  },
  {
   "cell_type": "code",
   "execution_count": 14,
   "metadata": {},
   "outputs": [
    {
     "name": "stdout",
     "output_type": "stream",
     "text": [
      "Obuolys / Apelsinas / Kriaušė\n"
     ]
    }
   ],
   "source": [
    "vaisiai = ['Obuolys', 'Apelsinas', 'Kriaušė']\n",
    "isvardinti_vaisiai = \" / \". join(vaisiai)\n",
    "print(isvardinti_vaisiai)"
   ]
  },
  {
   "cell_type": "code",
   "execution_count": 17,
   "metadata": {},
   "outputs": [
    {
     "name": "stdout",
     "output_type": "stream",
     "text": [
      "AŠ ESU STUDENTAS\n"
     ]
    }
   ],
   "source": [
    "tekstas = 'Aš esu studentas'\n",
    "tekstas_did = tekstas.upper()\n",
    "print(tekstas_did)"
   ]
  },
  {
   "cell_type": "code",
   "execution_count": 3,
   "metadata": {},
   "outputs": [
    {
     "name": "stdout",
     "output_type": "stream",
     "text": [
      "aš esu studentas\n"
     ]
    }
   ],
   "source": [
    "tekstas = 'Aš esu studentas'\n",
    "tekstas_maz = tekstas.lower()\n",
    "print(tekstas_maz)"
   ]
  },
  {
   "cell_type": "code",
   "execution_count": 38,
   "metadata": {},
   "outputs": [
    {
     "name": "stdout",
     "output_type": "stream",
     "text": [
      "Aš esu studentas\n"
     ]
    }
   ],
   "source": [
    "tekstas = ['Aš', 'esu', 'studentas']\n",
    "zodziai = \" \".join(tekstas)\n",
    "print(zodziai)"
   ]
  },
  {
   "attachments": {},
   "cell_type": "markdown",
   "metadata": {},
   "source": [
    "Teksto formatavimas"
   ]
  },
  {
   "cell_type": "code",
   "execution_count": 40,
   "metadata": {},
   "outputs": [
    {
     "name": "stdout",
     "output_type": "stream",
     "text": [
      "Sveiki, aš Milda, man yra 29 metai\n"
     ]
    }
   ],
   "source": [
    "vardas = \"Milda\"\n",
    "amzius = 29\n",
    "tekstas = \"Sveiki, aš \" + vardas + \", man yra \" \\\n",
    "    + str(amzius) + \" metai\"\n",
    "print(tekstas)"
   ]
  },
  {
   "cell_type": "code",
   "execution_count": 43,
   "metadata": {},
   "outputs": [
    {
     "name": "stdout",
     "output_type": "stream",
     "text": [
      "Sveiki, Milda! Jūms sukaks 2094 m.\n"
     ]
    }
   ],
   "source": [
    "vardas = input(\"Įveskite savo vardą: \")\n",
    "metai = input(\"Įveskite savo amžių: \")\n",
    "metai_iki = 100 - int(metai)\n",
    "rezultatas = 2023 + metai_iki\n",
    "print(f\"Sveiki, {vardas}! Jūms sukaks {rezultatas} m.\")"
   ]
  },
  {
   "cell_type": "code",
   "execution_count": 44,
   "metadata": {},
   "outputs": [
    {
     "name": "stdout",
     "output_type": "stream",
     "text": [
      "Jūsų ūgis yra 173 cm arba 1.73 m.\n"
     ]
    }
   ],
   "source": [
    "ugis = input(\"Įveskite savo ūgį cm: \")\n",
    "ugis_m = int(ugis) / 100\n",
    "print(f\"Jūsų ūgis yra {ugis} cm arba {ugis_m:.2f} m.\")"
   ]
  },
  {
   "cell_type": "code",
   "execution_count": 2,
   "metadata": {},
   "outputs": [
    {
     "name": "stdout",
     "output_type": "stream",
     "text": [
      "Jūsų atlyginimas į rankas yra: 870.00 EUR\n"
     ]
    }
   ],
   "source": [
    "atlyginimas = input(\"Įveskite atlyginimą: \")\n",
    "mokestis = input(\"Įveskite mokesčio procentą: \")\n",
    "atlyginimas_po_mokesciu = int(atlyginimas) * (1 - int(mokestis) / 100)\n",
    "print(f\"Jūsų atlyginimas į rankas yra: {atlyginimas_po_mokesciu:.2f} EUR\")"
   ]
  },
  {
   "cell_type": "code",
   "execution_count": 8,
   "metadata": {},
   "outputs": [
    {
     "name": "stdout",
     "output_type": "stream",
     "text": [
      "155 laipsnių Celsijaus yra 311.00 laipsnių Farenheito.\n"
     ]
    }
   ],
   "source": [
    "konversijos_tipas = input(\"Pasirinkite konversijos tipą (įveskite C arba F): \")\n",
    "temperatura = input(\"Įveskite temperatūrą: \")\n",
    "\n",
    "if konversijos_tipas == \"C\":\n",
    "    fahrenheit = float(temperatura) * 9/5 + 32\n",
    "    print(f\"{temperatura} laipsnių Celsijaus yra {fahrenheit:.2f} laipsnių Farenheito.\")\n",
    "elif konversijos_tipas == \"F\":\n",
    "    celsius = (float(temperatura) - 32) * 5/9\n",
    "    print(f\"{temperatura} laipsnių Farenheito yra {celsius:.2f} laipsnių Celsijaus.\")\n",
    "else:\n",
    "    print(\"Neteisingas konversijos tipas. Bandykite dar kartą.\")"
   ]
  }
 ],
 "metadata": {
  "kernelspec": {
   "display_name": "venv",
   "language": "python",
   "name": "python3"
  },
  "language_info": {
   "codemirror_mode": {
    "name": "ipython",
    "version": 3
   },
   "file_extension": ".py",
   "mimetype": "text/x-python",
   "name": "python",
   "nbconvert_exporter": "python",
   "pygments_lexer": "ipython3",
   "version": "3.11.3"
  },
  "orig_nbformat": 4
 },
 "nbformat": 4,
 "nbformat_minor": 2
}
