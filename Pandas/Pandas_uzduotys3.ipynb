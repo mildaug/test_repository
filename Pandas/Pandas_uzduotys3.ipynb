{
 "cells": [
  {
   "attachments": {},
   "cell_type": "markdown",
   "metadata": {},
   "source": [
    "# Pandas užduotys 3"
   ]
  },
  {
   "cell_type": "code",
   "execution_count": 2,
   "metadata": {},
   "outputs": [],
   "source": [
    "import numpy as np\n",
    "import pandas as pd"
   ]
  },
  {
   "attachments": {},
   "cell_type": "markdown",
   "metadata": {},
   "source": [
    "# 1 Ištraukite lentelę iš [šios](https://work.studentnews.eu/s/3695/75547-European-countries-the-table-language-population-capital-currency-phone-code-internet-code.htm) svetainės. Išsaugokite kintamąjame."
   ]
  },
  {
   "cell_type": "code",
   "execution_count": 3,
   "metadata": {},
   "outputs": [
    {
     "data": {
      "text/html": [
       "<div>\n",
       "<style scoped>\n",
       "    .dataframe tbody tr th:only-of-type {\n",
       "        vertical-align: middle;\n",
       "    }\n",
       "\n",
       "    .dataframe tbody tr th {\n",
       "        vertical-align: top;\n",
       "    }\n",
       "\n",
       "    .dataframe thead th {\n",
       "        text-align: right;\n",
       "    }\n",
       "</style>\n",
       "<table border=\"1\" class=\"dataframe\">\n",
       "  <thead>\n",
       "    <tr style=\"text-align: right;\">\n",
       "      <th></th>\n",
       "      <th>Staat</th>\n",
       "      <th>Official languages</th>\n",
       "      <th>Population</th>\n",
       "      <th>Capital</th>\n",
       "      <th>Currency</th>\n",
       "      <th>Phone</th>\n",
       "      <th>Int.</th>\n",
       "    </tr>\n",
       "  </thead>\n",
       "  <tbody>\n",
       "    <tr>\n",
       "      <th>0</th>\n",
       "      <td>Austria</td>\n",
       "      <td>German</td>\n",
       "      <td>8.4 million</td>\n",
       "      <td>Vienna</td>\n",
       "      <td>euro (EUR)</td>\n",
       "      <td>43</td>\n",
       "      <td>.at</td>\n",
       "    </tr>\n",
       "    <tr>\n",
       "      <th>1</th>\n",
       "      <td>Belgium</td>\n",
       "      <td>Dutch (north), French (south), German</td>\n",
       "      <td>11 million</td>\n",
       "      <td>Brussels</td>\n",
       "      <td>euro (EUR)</td>\n",
       "      <td>32</td>\n",
       "      <td>.be</td>\n",
       "    </tr>\n",
       "    <tr>\n",
       "      <th>2</th>\n",
       "      <td>Bulgaria</td>\n",
       "      <td>Bulgarian</td>\n",
       "      <td>7 million</td>\n",
       "      <td>Sofia</td>\n",
       "      <td>Bulgarian lev (BGN)</td>\n",
       "      <td>359</td>\n",
       "      <td>.bg</td>\n",
       "    </tr>\n",
       "    <tr>\n",
       "      <th>3</th>\n",
       "      <td>Croatia</td>\n",
       "      <td>Croatian</td>\n",
       "      <td>4.3 million</td>\n",
       "      <td>Zagreb</td>\n",
       "      <td>Croatian kuna (HRK)</td>\n",
       "      <td>385</td>\n",
       "      <td>.hr</td>\n",
       "    </tr>\n",
       "    <tr>\n",
       "      <th>4</th>\n",
       "      <td>Cyprus</td>\n",
       "      <td>Greek, Turkish</td>\n",
       "      <td>800 000</td>\n",
       "      <td>Nicosia</td>\n",
       "      <td>euro (EUR)</td>\n",
       "      <td>357</td>\n",
       "      <td>.cy</td>\n",
       "    </tr>\n",
       "  </tbody>\n",
       "</table>\n",
       "</div>"
      ],
      "text/plain": [
       "      Staat                     Official languages   Population   Capital   \n",
       "0   Austria                                 German  8.4 million    Vienna  \\\n",
       "1   Belgium  Dutch (north), French (south), German   11 million  Brussels   \n",
       "2  Bulgaria                              Bulgarian    7 million     Sofia   \n",
       "3   Croatia                               Croatian  4.3 million    Zagreb   \n",
       "4    Cyprus                         Greek, Turkish      800 000   Nicosia   \n",
       "\n",
       "              Currency  Phone Int.  \n",
       "0           euro (EUR)     43  .at  \n",
       "1           euro (EUR)     32  .be  \n",
       "2  Bulgarian lev (BGN)    359  .bg  \n",
       "3  Croatian kuna (HRK)    385  .hr  \n",
       "4           euro (EUR)    357  .cy  "
      ]
     },
     "execution_count": 3,
     "metadata": {},
     "output_type": "execute_result"
    }
   ],
   "source": [
    "html = pd.read_html('https://work.studentnews.eu/s/3695/75547-European-countries-the-table-language-population-capital-currency-phone-code-internet-code.htm')\n",
    "html[1].head()\n"
   ]
  },
  {
   "attachments": {},
   "cell_type": "markdown",
   "metadata": {},
   "source": [
    "# 2 šių duomenų pagrindu sukurkite CSV, Excelio failus, ir SQLite3 duomenų bazę. Patikrinkite, ar suveikė."
   ]
  },
  {
   "cell_type": "code",
   "execution_count": 4,
   "metadata": {},
   "outputs": [],
   "source": [
    "salys = html[1]"
   ]
  },
  {
   "cell_type": "code",
   "execution_count": 5,
   "metadata": {},
   "outputs": [
    {
     "data": {
      "text/plain": [
       "32"
      ]
     },
     "execution_count": 5,
     "metadata": {},
     "output_type": "execute_result"
    }
   ],
   "source": [
    "salys.to_csv('salys.csv', index=False)\n",
    "salys.to_excel('salys.xlsx', 'Sheet1', index=False)\n",
    "\n",
    "from sqlalchemy import create_engine\n",
    "engine = create_engine('sqlite:///salys.db')\n",
    "salys.to_sql('salys', con=engine, index=False)\n"
   ]
  },
  {
   "attachments": {},
   "cell_type": "markdown",
   "metadata": {},
   "source": [
    "# 3 Nuskaitykite į DF šį [failą](https://github.com/robotautas/kursas/blob/master/Pandas/top_20_CA_wildfires.csv)"
   ]
  },
  {
   "cell_type": "code",
   "execution_count": 6,
   "metadata": {},
   "outputs": [
    {
     "data": {
      "text/html": [
       "<div>\n",
       "<style scoped>\n",
       "    .dataframe tbody tr th:only-of-type {\n",
       "        vertical-align: middle;\n",
       "    }\n",
       "\n",
       "    .dataframe tbody tr th {\n",
       "        vertical-align: top;\n",
       "    }\n",
       "\n",
       "    .dataframe thead th {\n",
       "        text-align: right;\n",
       "    }\n",
       "</style>\n",
       "<table border=\"1\" class=\"dataframe\">\n",
       "  <thead>\n",
       "    <tr style=\"text-align: right;\">\n",
       "      <th></th>\n",
       "      <th>fire_name</th>\n",
       "      <th>cause</th>\n",
       "      <th>month</th>\n",
       "      <th>year</th>\n",
       "      <th>county</th>\n",
       "      <th>acres</th>\n",
       "      <th>structures</th>\n",
       "      <th>deaths</th>\n",
       "    </tr>\n",
       "  </thead>\n",
       "  <tbody>\n",
       "    <tr>\n",
       "      <th>0</th>\n",
       "      <td>Mendocino Complex</td>\n",
       "      <td>Under Investigation</td>\n",
       "      <td>July</td>\n",
       "      <td>2018</td>\n",
       "      <td>Colusa County, Lake County, Mendocino County &amp;...</td>\n",
       "      <td>459123</td>\n",
       "      <td>280</td>\n",
       "      <td>1</td>\n",
       "    </tr>\n",
       "    <tr>\n",
       "      <th>1</th>\n",
       "      <td>Thomas</td>\n",
       "      <td>Powerlines</td>\n",
       "      <td>December</td>\n",
       "      <td>2017</td>\n",
       "      <td>Ventura &amp; Santa Barbara</td>\n",
       "      <td>281893</td>\n",
       "      <td>1063</td>\n",
       "      <td>2</td>\n",
       "    </tr>\n",
       "    <tr>\n",
       "      <th>2</th>\n",
       "      <td>Cedar</td>\n",
       "      <td>Human Related</td>\n",
       "      <td>October</td>\n",
       "      <td>2003</td>\n",
       "      <td>San Diego</td>\n",
       "      <td>273246</td>\n",
       "      <td>2820</td>\n",
       "      <td>15</td>\n",
       "    </tr>\n",
       "    <tr>\n",
       "      <th>3</th>\n",
       "      <td>Rush</td>\n",
       "      <td>Lightning</td>\n",
       "      <td>August</td>\n",
       "      <td>2012</td>\n",
       "      <td>Lassen</td>\n",
       "      <td>271911</td>\n",
       "      <td>0</td>\n",
       "      <td>0</td>\n",
       "    </tr>\n",
       "    <tr>\n",
       "      <th>4</th>\n",
       "      <td>Rim</td>\n",
       "      <td>Human Related</td>\n",
       "      <td>August</td>\n",
       "      <td>2013</td>\n",
       "      <td>Tuolumne</td>\n",
       "      <td>257314</td>\n",
       "      <td>112</td>\n",
       "      <td>0</td>\n",
       "    </tr>\n",
       "  </tbody>\n",
       "</table>\n",
       "</div>"
      ],
      "text/plain": [
       "           fire_name                cause     month  year   \n",
       "0  Mendocino Complex  Under Investigation      July  2018  \\\n",
       "1             Thomas           Powerlines  December  2017   \n",
       "2              Cedar        Human Related   October  2003   \n",
       "3               Rush            Lightning    August  2012   \n",
       "4                Rim        Human Related    August  2013   \n",
       "\n",
       "                                              county   acres  structures   \n",
       "0  Colusa County, Lake County, Mendocino County &...  459123         280  \\\n",
       "1                            Ventura & Santa Barbara  281893        1063   \n",
       "2                                          San Diego  273246        2820   \n",
       "3                                             Lassen  271911           0   \n",
       "4                                           Tuolumne  257314         112   \n",
       "\n",
       "   deaths  \n",
       "0       1  \n",
       "1       2  \n",
       "2      15  \n",
       "3       0  \n",
       "4       0  "
      ]
     },
     "execution_count": 6,
     "metadata": {},
     "output_type": "execute_result"
    }
   ],
   "source": [
    "gaisrai = pd.read_csv('top_20_CA_wildfires.csv')\n",
    "gaisrai.head()"
   ]
  },
  {
   "attachments": {},
   "cell_type": "markdown",
   "metadata": {},
   "source": [
    "# 4 Kiek unikalių reikšmių yra stulpelyje 'cause'?"
   ]
  },
  {
   "cell_type": "code",
   "execution_count": 7,
   "metadata": {},
   "outputs": [
    {
     "data": {
      "text/plain": [
       "5"
      ]
     },
     "execution_count": 7,
     "metadata": {},
     "output_type": "execute_result"
    }
   ],
   "source": [
    "len(gaisrai['cause'].unique())"
   ]
  },
  {
   "attachments": {},
   "cell_type": "markdown",
   "metadata": {},
   "source": [
    "# 5 Kokios gaisrų priežastys, kiek kartų pasitaiko lentelėje?"
   ]
  },
  {
   "cell_type": "code",
   "execution_count": 8,
   "metadata": {
    "scrolled": true
   },
   "outputs": [
    {
     "data": {
      "text/plain": [
       "cause\n",
       "Human Related          7\n",
       "Lightning              7\n",
       "Powerlines             4\n",
       "Under Investigation    1\n",
       "Undetermined           1\n",
       "Name: count, dtype: int64"
      ]
     },
     "execution_count": 8,
     "metadata": {},
     "output_type": "execute_result"
    }
   ],
   "source": [
    "gaisrai['cause'].value_counts()"
   ]
  },
  {
   "attachments": {},
   "cell_type": "markdown",
   "metadata": {},
   "source": [
    "# 6 Kuriais metais buvo daugiausia gaisrų?"
   ]
  },
  {
   "cell_type": "code",
   "execution_count": 16,
   "metadata": {},
   "outputs": [
    {
     "data": {
      "text/plain": [
       "2018"
      ]
     },
     "execution_count": 16,
     "metadata": {},
     "output_type": "execute_result"
    }
   ],
   "source": [
    "gaisrai['year'].value_counts().idxmax()"
   ]
  },
  {
   "attachments": {},
   "cell_type": "markdown",
   "metadata": {},
   "source": [
    "# 7 Kiek buvo tokių gaisrų, kuriuose žuvo žmonės?"
   ]
  },
  {
   "cell_type": "code",
   "execution_count": 20,
   "metadata": {
    "scrolled": true
   },
   "outputs": [
    {
     "data": {
      "text/plain": [
       "10"
      ]
     },
     "execution_count": 20,
     "metadata": {},
     "output_type": "execute_result"
    }
   ],
   "source": [
    "gaisrai['deaths'].value_counts().drop(0).sum()"
   ]
  },
  {
   "attachments": {},
   "cell_type": "markdown",
   "metadata": {},
   "source": [
    "# 8 Surūšiuokite eilutes pagal metus. Išsiaiškinkite, kaip rūšiuoti, kad naujausi gaisrai būtų viršuje"
   ]
  },
  {
   "cell_type": "code",
   "execution_count": 21,
   "metadata": {
    "scrolled": true
   },
   "outputs": [
    {
     "data": {
      "text/html": [
       "<div>\n",
       "<style scoped>\n",
       "    .dataframe tbody tr th:only-of-type {\n",
       "        vertical-align: middle;\n",
       "    }\n",
       "\n",
       "    .dataframe tbody tr th {\n",
       "        vertical-align: top;\n",
       "    }\n",
       "\n",
       "    .dataframe thead th {\n",
       "        text-align: right;\n",
       "    }\n",
       "</style>\n",
       "<table border=\"1\" class=\"dataframe\">\n",
       "  <thead>\n",
       "    <tr style=\"text-align: right;\">\n",
       "      <th></th>\n",
       "      <th>fire_name</th>\n",
       "      <th>cause</th>\n",
       "      <th>month</th>\n",
       "      <th>year</th>\n",
       "      <th>county</th>\n",
       "      <th>acres</th>\n",
       "      <th>structures</th>\n",
       "      <th>deaths</th>\n",
       "    </tr>\n",
       "  </thead>\n",
       "  <tbody>\n",
       "    <tr>\n",
       "      <th>0</th>\n",
       "      <td>Mendocino Complex</td>\n",
       "      <td>Under Investigation</td>\n",
       "      <td>July</td>\n",
       "      <td>2018</td>\n",
       "      <td>Colusa County, Lake County, Mendocino County &amp;...</td>\n",
       "      <td>459123</td>\n",
       "      <td>280</td>\n",
       "      <td>1</td>\n",
       "    </tr>\n",
       "    <tr>\n",
       "      <th>15</th>\n",
       "      <td>Camp Fire</td>\n",
       "      <td>Powerlines</td>\n",
       "      <td>November</td>\n",
       "      <td>2018</td>\n",
       "      <td>Butte</td>\n",
       "      <td>153336</td>\n",
       "      <td>18804</td>\n",
       "      <td>85</td>\n",
       "    </tr>\n",
       "    <tr>\n",
       "      <th>6</th>\n",
       "      <td>Carr</td>\n",
       "      <td>Human Related</td>\n",
       "      <td>July</td>\n",
       "      <td>2018</td>\n",
       "      <td>Shasta County,Trinity County</td>\n",
       "      <td>229651</td>\n",
       "      <td>1614</td>\n",
       "      <td>8</td>\n",
       "    </tr>\n",
       "    <tr>\n",
       "      <th>1</th>\n",
       "      <td>Thomas</td>\n",
       "      <td>Powerlines</td>\n",
       "      <td>December</td>\n",
       "      <td>2017</td>\n",
       "      <td>Ventura &amp; Santa Barbara</td>\n",
       "      <td>281893</td>\n",
       "      <td>1063</td>\n",
       "      <td>2</td>\n",
       "    </tr>\n",
       "    <tr>\n",
       "      <th>16</th>\n",
       "      <td>Rough</td>\n",
       "      <td>Lightning</td>\n",
       "      <td>July</td>\n",
       "      <td>2015</td>\n",
       "      <td>Fresno</td>\n",
       "      <td>151623</td>\n",
       "      <td>4</td>\n",
       "      <td>0</td>\n",
       "    </tr>\n",
       "  </tbody>\n",
       "</table>\n",
       "</div>"
      ],
      "text/plain": [
       "            fire_name                cause     month  year   \n",
       "0   Mendocino Complex  Under Investigation      July  2018  \\\n",
       "15          Camp Fire           Powerlines  November  2018   \n",
       "6                Carr        Human Related      July  2018   \n",
       "1              Thomas           Powerlines  December  2017   \n",
       "16              Rough            Lightning      July  2015   \n",
       "\n",
       "                                               county   acres  structures   \n",
       "0   Colusa County, Lake County, Mendocino County &...  459123         280  \\\n",
       "15                                              Butte  153336       18804   \n",
       "6                        Shasta County,Trinity County  229651        1614   \n",
       "1                             Ventura & Santa Barbara  281893        1063   \n",
       "16                                             Fresno  151623           4   \n",
       "\n",
       "    deaths  \n",
       "0        1  \n",
       "15      85  \n",
       "6        8  \n",
       "1        2  \n",
       "16       0  "
      ]
     },
     "execution_count": 21,
     "metadata": {},
     "output_type": "execute_result"
    }
   ],
   "source": [
    "gaisrai.sort_values('year', ascending=False).head()"
   ]
  },
  {
   "attachments": {},
   "cell_type": "markdown",
   "metadata": {},
   "source": [
    "# 9 Parašykite funkciją, kuri mėnesio pavadinimą verstų skaičiumi. Naudodami .apply() lentelėje pakeiskite mėnesių pavadinimus skaičiais. \n",
    "*nusikopijuokite žodyną, kad nereikėtų rašyti ranka :)*"
   ]
  },
  {
   "cell_type": "code",
   "execution_count": 41,
   "metadata": {},
   "outputs": [
    {
     "data": {
      "text/plain": [
       "12"
      ]
     },
     "execution_count": 41,
     "metadata": {},
     "output_type": "execute_result"
    }
   ],
   "source": [
    "def men_i_skaiciu(menesis):\n",
    "    menesiai = {'January': 1,\n",
    "     'February': 2,\n",
    "     'March': 3,\n",
    "     'April': 4,\n",
    "      'May': 5,\n",
    "      'June': 6,\n",
    "      'July': 7,\n",
    "      'August': 8,\n",
    "      'September': 9,\n",
    "      'October': 10,\n",
    "      'November': 11,\n",
    "      'December': 12}\n",
    "    return menesiai[menesis]\n",
    "\n",
    "men_i_skaiciu('December')"
   ]
  },
  {
   "cell_type": "code",
   "execution_count": 42,
   "metadata": {},
   "outputs": [
    {
     "data": {
      "text/html": [
       "<div>\n",
       "<style scoped>\n",
       "    .dataframe tbody tr th:only-of-type {\n",
       "        vertical-align: middle;\n",
       "    }\n",
       "\n",
       "    .dataframe tbody tr th {\n",
       "        vertical-align: top;\n",
       "    }\n",
       "\n",
       "    .dataframe thead th {\n",
       "        text-align: right;\n",
       "    }\n",
       "</style>\n",
       "<table border=\"1\" class=\"dataframe\">\n",
       "  <thead>\n",
       "    <tr style=\"text-align: right;\">\n",
       "      <th></th>\n",
       "      <th>fire_name</th>\n",
       "      <th>cause</th>\n",
       "      <th>month</th>\n",
       "      <th>year</th>\n",
       "      <th>county</th>\n",
       "      <th>acres</th>\n",
       "      <th>structures</th>\n",
       "      <th>deaths</th>\n",
       "    </tr>\n",
       "  </thead>\n",
       "  <tbody>\n",
       "    <tr>\n",
       "      <th>0</th>\n",
       "      <td>Mendocino Complex</td>\n",
       "      <td>Under Investigation</td>\n",
       "      <td>7</td>\n",
       "      <td>2018</td>\n",
       "      <td>Colusa County, Lake County, Mendocino County &amp;...</td>\n",
       "      <td>459123</td>\n",
       "      <td>280</td>\n",
       "      <td>1</td>\n",
       "    </tr>\n",
       "    <tr>\n",
       "      <th>1</th>\n",
       "      <td>Thomas</td>\n",
       "      <td>Powerlines</td>\n",
       "      <td>12</td>\n",
       "      <td>2017</td>\n",
       "      <td>Ventura &amp; Santa Barbara</td>\n",
       "      <td>281893</td>\n",
       "      <td>1063</td>\n",
       "      <td>2</td>\n",
       "    </tr>\n",
       "    <tr>\n",
       "      <th>2</th>\n",
       "      <td>Cedar</td>\n",
       "      <td>Human Related</td>\n",
       "      <td>10</td>\n",
       "      <td>2003</td>\n",
       "      <td>San Diego</td>\n",
       "      <td>273246</td>\n",
       "      <td>2820</td>\n",
       "      <td>15</td>\n",
       "    </tr>\n",
       "    <tr>\n",
       "      <th>3</th>\n",
       "      <td>Rush</td>\n",
       "      <td>Lightning</td>\n",
       "      <td>8</td>\n",
       "      <td>2012</td>\n",
       "      <td>Lassen</td>\n",
       "      <td>271911</td>\n",
       "      <td>0</td>\n",
       "      <td>0</td>\n",
       "    </tr>\n",
       "    <tr>\n",
       "      <th>4</th>\n",
       "      <td>Rim</td>\n",
       "      <td>Human Related</td>\n",
       "      <td>8</td>\n",
       "      <td>2013</td>\n",
       "      <td>Tuolumne</td>\n",
       "      <td>257314</td>\n",
       "      <td>112</td>\n",
       "      <td>0</td>\n",
       "    </tr>\n",
       "  </tbody>\n",
       "</table>\n",
       "</div>"
      ],
      "text/plain": [
       "           fire_name                cause  month  year   \n",
       "0  Mendocino Complex  Under Investigation      7  2018  \\\n",
       "1             Thomas           Powerlines     12  2017   \n",
       "2              Cedar        Human Related     10  2003   \n",
       "3               Rush            Lightning      8  2012   \n",
       "4                Rim        Human Related      8  2013   \n",
       "\n",
       "                                              county   acres  structures   \n",
       "0  Colusa County, Lake County, Mendocino County &...  459123         280  \\\n",
       "1                            Ventura & Santa Barbara  281893        1063   \n",
       "2                                          San Diego  273246        2820   \n",
       "3                                             Lassen  271911           0   \n",
       "4                                           Tuolumne  257314         112   \n",
       "\n",
       "   deaths  \n",
       "0       1  \n",
       "1       2  \n",
       "2      15  \n",
       "3       0  \n",
       "4       0  "
      ]
     },
     "execution_count": 42,
     "metadata": {},
     "output_type": "execute_result"
    }
   ],
   "source": [
    "gaisrai['month'] = gaisrai['month'].apply(men_i_skaiciu)\n",
    "gaisrai.head()"
   ]
  },
  {
   "attachments": {},
   "cell_type": "markdown",
   "metadata": {},
   "source": [
    "# 10 Nuskaitykite lentelę iš [čia](https://lt.wikipedia.org/wiki/S%C4%85ra%C5%A1as:Lietuvos_miestai_pagal_gyventojus). "
   ]
  },
  {
   "attachments": {},
   "cell_type": "markdown",
   "metadata": {},
   "source": [
    "* **Pakeiskite indeksą į stulpelį 'Miestas'**\n",
    "* **Sutvarkykite duomenis taip, kad gyventojų sk. reprezentuotų lengelis su 'int' reikšme: -\n",
    "Ten kur trūksta duomenų - nulis. \n",
    "ten, kur reikšmės ne integer, sutvarkykite, kad būtų integer.** "
   ]
  },
  {
   "cell_type": "code",
   "execution_count": 44,
   "metadata": {},
   "outputs": [
    {
     "data": {
      "text/html": [
       "<div>\n",
       "<style scoped>\n",
       "    .dataframe tbody tr th:only-of-type {\n",
       "        vertical-align: middle;\n",
       "    }\n",
       "\n",
       "    .dataframe tbody tr th {\n",
       "        vertical-align: top;\n",
       "    }\n",
       "\n",
       "    .dataframe thead th {\n",
       "        text-align: right;\n",
       "    }\n",
       "</style>\n",
       "<table border=\"1\" class=\"dataframe\">\n",
       "  <thead>\n",
       "    <tr style=\"text-align: right;\">\n",
       "      <th></th>\n",
       "      <th>Eilė</th>\n",
       "      <th>Miestas</th>\n",
       "      <th>2021 m.</th>\n",
       "      <th>2011 m.</th>\n",
       "      <th>2001 m.</th>\n",
       "      <th>1989 m.</th>\n",
       "      <th>1979 m.</th>\n",
       "      <th>1970 m.</th>\n",
       "      <th>1959 m.</th>\n",
       "      <th>1923 m.</th>\n",
       "      <th>1897 m.</th>\n",
       "      <th>Tankumas (2019)</th>\n",
       "    </tr>\n",
       "  </thead>\n",
       "  <tbody>\n",
       "    <tr>\n",
       "      <th>0</th>\n",
       "      <td>1</td>\n",
       "      <td>Vilnius</td>\n",
       "      <td>546155</td>\n",
       "      <td>524406</td>\n",
       "      <td>542287</td>\n",
       "      <td>576747</td>\n",
       "      <td>475825</td>\n",
       "      <td>372100.0</td>\n",
       "      <td>236078.0</td>\n",
       "      <td>167400</td>\n",
       "      <td>154532*</td>\n",
       "      <td>1374 žm./km²</td>\n",
       "    </tr>\n",
       "    <tr>\n",
       "      <th>1</th>\n",
       "      <td>2</td>\n",
       "      <td>Kaunas</td>\n",
       "      <td>298753</td>\n",
       "      <td>315993</td>\n",
       "      <td>378943</td>\n",
       "      <td>418087</td>\n",
       "      <td>368649</td>\n",
       "      <td>305116.0</td>\n",
       "      <td>219287.0</td>\n",
       "      <td>92446</td>\n",
       "      <td>70920*</td>\n",
       "      <td>1843 žm./km²</td>\n",
       "    </tr>\n",
       "    <tr>\n",
       "      <th>2</th>\n",
       "      <td>3</td>\n",
       "      <td>Klaipėda</td>\n",
       "      <td>152008</td>\n",
       "      <td>162360</td>\n",
       "      <td>192954</td>\n",
       "      <td>202929</td>\n",
       "      <td>176648</td>\n",
       "      <td>140012.0</td>\n",
       "      <td>90521.0</td>\n",
       "      <td>35845</td>\n",
       "      <td>20100</td>\n",
       "      <td>1356 žm./km²</td>\n",
       "    </tr>\n",
       "    <tr>\n",
       "      <th>3</th>\n",
       "      <td>4</td>\n",
       "      <td>Šiauliai</td>\n",
       "      <td>100653</td>\n",
       "      <td>109328</td>\n",
       "      <td>133883</td>\n",
       "      <td>145629</td>\n",
       "      <td>118724</td>\n",
       "      <td>93057.0</td>\n",
       "      <td>59722.0</td>\n",
       "      <td>21387</td>\n",
       "      <td>16128*</td>\n",
       "      <td>1251 žm./km²</td>\n",
       "    </tr>\n",
       "    <tr>\n",
       "      <th>4</th>\n",
       "      <td>5</td>\n",
       "      <td>Panevėžys</td>\n",
       "      <td>89110</td>\n",
       "      <td>99690</td>\n",
       "      <td>119749</td>\n",
       "      <td>126483</td>\n",
       "      <td>102303</td>\n",
       "      <td>73328.0</td>\n",
       "      <td>41096.0</td>\n",
       "      <td>19197</td>\n",
       "      <td>12968*</td>\n",
       "      <td>1590 žm./km²</td>\n",
       "    </tr>\n",
       "  </tbody>\n",
       "</table>\n",
       "</div>"
      ],
      "text/plain": [
       "   Eilė    Miestas  2021 m.  2011 m.  2001 m.  1989 m.  1979 m.   1970 m.   \n",
       "0     1    Vilnius   546155   524406   542287   576747   475825  372100.0  \\\n",
       "1     2     Kaunas   298753   315993   378943   418087   368649  305116.0   \n",
       "2     3   Klaipėda   152008   162360   192954   202929   176648  140012.0   \n",
       "3     4   Šiauliai   100653   109328   133883   145629   118724   93057.0   \n",
       "4     5  Panevėžys    89110    99690   119749   126483   102303   73328.0   \n",
       "\n",
       "    1959 m. 1923 m.  1897 m. Tankumas (2019)  \n",
       "0  236078.0  167400  154532*    1374 žm./km²  \n",
       "1  219287.0   92446   70920*    1843 žm./km²  \n",
       "2   90521.0   35845    20100    1356 žm./km²  \n",
       "3   59722.0   21387   16128*    1251 žm./km²  \n",
       "4   41096.0   19197   12968*    1590 žm./km²  "
      ]
     },
     "execution_count": 44,
     "metadata": {},
     "output_type": "execute_result"
    }
   ],
   "source": [
    "data = pd.read_html('https://lt.wikipedia.org/wiki/S%C4%85ra%C5%A1as:Lietuvos_miestai_pagal_gyventojus')\n",
    "miestai = data[0]\n",
    "miestai.head()"
   ]
  },
  {
   "cell_type": "code",
   "execution_count": null,
   "metadata": {},
   "outputs": [],
   "source": [
    "miestai.info()"
   ]
  },
  {
   "cell_type": "code",
   "execution_count": null,
   "metadata": {},
   "outputs": [],
   "source": [
    "miestai.set_index('Miestas', inplace=True)\n",
    "col_list = miestai.columns.tolist()\n",
    "col_list"
   ]
  }
 ],
 "metadata": {
  "kernelspec": {
   "display_name": "Python 3",
   "language": "python",
   "name": "python3"
  },
  "language_info": {
   "codemirror_mode": {
    "name": "ipython",
    "version": 3
   },
   "file_extension": ".py",
   "mimetype": "text/x-python",
   "name": "python",
   "nbconvert_exporter": "python",
   "pygments_lexer": "ipython3",
   "version": "3.11.3"
  }
 },
 "nbformat": 4,
 "nbformat_minor": 2
}
