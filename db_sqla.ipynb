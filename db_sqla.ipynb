{
 "cells": [
  {
   "cell_type": "code",
   "execution_count": null,
   "metadata": {},
   "outputs": [],
   "source": [
    "from sqlalchemy import create_engine, Integer, String, Float, DateTime, ForeignKey\n",
    "from sqlalchemy.orm import DeclarativeBase, mapped_column, relationship, sessionmaker\n",
    "from datetime import datetime"
   ]
  },
  {
   "attachments": {},
   "cell_type": "markdown",
   "metadata": {},
   "source": [
    "## viena lentele - projektai"
   ]
  },
  {
   "cell_type": "code",
   "execution_count": null,
   "metadata": {},
   "outputs": [],
   "source": [
    "db_engine = create_engine('sqlite:///projektai.db', echo=True)"
   ]
  },
  {
   "cell_type": "code",
   "execution_count": null,
   "metadata": {},
   "outputs": [],
   "source": [
    "from typing import Any\n",
    "\n",
    "\n",
    "class Base(DeclarativeBase):\n",
    "    pass\n",
    "\n",
    "\n",
    "class Projektas(Base):\n",
    "    __tablename__ = \"projektas\"\n",
    "    id = mapped_column(Integer, primary_key=True)\n",
    "    name = mapped_column(String(50), nullable=False)\n",
    "    price = mapped_column(Float(2), nullable=False)\n",
    "    created = mapped_column(DateTime, default=datetime.utcnow)\n",
    "\n",
    "    def __init__(self, **kw: Any):\n",
    "        # super().__init__(**kw)\n",
    "        for key, value in kw.items():\n",
    "            setattr(self, key, value)\n",
    "    \n",
    "    def __repr__(self) -> str:\n",
    "        return f\"({self.id}, {self.name}, {self.price}, {self.created})\"\n"
   ]
  },
  {
   "cell_type": "code",
   "execution_count": 20,
   "metadata": {},
   "outputs": [
    {
     "name": "stdout",
     "output_type": "stream",
     "text": [
      "2023-05-10 14:34:52,663 INFO sqlalchemy.engine.Engine BEGIN (implicit)\n",
      "2023-05-10 14:34:52,666 INFO sqlalchemy.engine.Engine PRAGMA main.table_info(\"projektas\")\n",
      "2023-05-10 14:34:52,667 INFO sqlalchemy.engine.Engine [raw sql] ()\n",
      "2023-05-10 14:34:52,669 INFO sqlalchemy.engine.Engine PRAGMA temp.table_info(\"projektas\")\n",
      "2023-05-10 14:34:52,670 INFO sqlalchemy.engine.Engine [raw sql] ()\n",
      "2023-05-10 14:34:52,673 INFO sqlalchemy.engine.Engine \n",
      "CREATE TABLE projektas (\n",
      "\tid INTEGER NOT NULL, \n",
      "\tname VARCHAR(50) NOT NULL, \n",
      "\tprice FLOAT NOT NULL, \n",
      "\tcreated DATETIME, \n",
      "\tPRIMARY KEY (id)\n",
      ")\n",
      "\n",
      "\n",
      "2023-05-10 14:34:52,673 INFO sqlalchemy.engine.Engine [no key 0.00078s] ()\n",
      "2023-05-10 14:34:52,680 INFO sqlalchemy.engine.Engine COMMIT\n"
     ]
    }
   ],
   "source": [
    "Base.metadata.create_all(db_engine)"
   ]
  },
  {
   "cell_type": "code",
   "execution_count": 21,
   "metadata": {},
   "outputs": [],
   "source": [
    "from sqlalchemy.orm import Session"
   ]
  },
  {
   "cell_type": "code",
   "execution_count": 22,
   "metadata": {},
   "outputs": [
    {
     "name": "stdout",
     "output_type": "stream",
     "text": [
      "2023-05-10 14:58:34,554 INFO sqlalchemy.engine.Engine BEGIN (implicit)\n",
      "2023-05-10 14:58:34,558 INFO sqlalchemy.engine.Engine INSERT INTO projektas (name, price, created) VALUES (?, ?, ?)\n",
      "2023-05-10 14:58:34,560 INFO sqlalchemy.engine.Engine [generated in 0.00212s] ('Python Kursai Pradedantiesiems', 2000.0, '2023-05-10 11:58:34.558563')\n",
      "2023-05-10 14:58:34,562 INFO sqlalchemy.engine.Engine COMMIT\n"
     ]
    }
   ],
   "source": [
    "with Session(db_engine) as session:\n",
    "    python_1 = Projektas(name=\"Python Kursai Pradedantiesiems\", price=2000)\n",
    "    session.add(python_1)\n",
    "    session.commit()"
   ]
  },
  {
   "cell_type": "code",
   "execution_count": 24,
   "metadata": {},
   "outputs": [
    {
     "name": "stdout",
     "output_type": "stream",
     "text": [
      "2023-05-10 15:01:32,850 INFO sqlalchemy.engine.Engine BEGIN (implicit)\n",
      "2023-05-10 15:01:32,852 INFO sqlalchemy.engine.Engine INSERT INTO projektas (name, price, created) VALUES (?, ?, ?)\n",
      "2023-05-10 15:01:32,853 INFO sqlalchemy.engine.Engine [cached since 178.3s ago] ('Duomenų Bazių su Python kursas', 5000.0, '2023-05-10 12:01:32.852176')\n",
      "2023-05-10 15:01:32,854 INFO sqlalchemy.engine.Engine INSERT INTO projektas (name, price, created) VALUES (?, ?, ?)\n",
      "2023-05-10 15:01:32,855 INFO sqlalchemy.engine.Engine [cached since 178.3s ago] ('Frontendo kursai: HTML, CSS', 1500.0, '2023-05-10 12:01:32.854908')\n",
      "2023-05-10 15:01:32,857 INFO sqlalchemy.engine.Engine INSERT INTO projektas (name, price, created) VALUES (?, ?, ?)\n",
      "2023-05-10 15:01:32,858 INFO sqlalchemy.engine.Engine [cached since 178.3s ago] ('Django kursas', 7000.0, '2023-05-10 12:01:32.857173')\n",
      "2023-05-10 15:01:32,859 INFO sqlalchemy.engine.Engine COMMIT\n"
     ]
    }
   ],
   "source": [
    "with Session(db_engine) as session:\n",
    "    db_1 = Projektas(name=\"Duomenų Bazių su Python kursas\", price=5000)\n",
    "    frontas = Projektas(name=\"Frontendo kursai: HTML, CSS\", price=1500)\n",
    "    django = Projektas(name=\"Django kursas\", price=7000)\n",
    "    session.add_all([db_1, frontas, django])\n",
    "    session.commit()"
   ]
  },
  {
   "cell_type": "code",
   "execution_count": 25,
   "metadata": {},
   "outputs": [
    {
     "name": "stdout",
     "output_type": "stream",
     "text": [
      "2023-05-10 15:04:12,144 INFO sqlalchemy.engine.Engine BEGIN (implicit)\n",
      "2023-05-10 15:04:12,147 INFO sqlalchemy.engine.Engine SELECT projektas.id AS projektas_id, projektas.name AS projektas_name, projektas.price AS projektas_price, projektas.created AS projektas_created \n",
      "FROM projektas\n",
      "2023-05-10 15:04:12,147 INFO sqlalchemy.engine.Engine [generated in 0.00067s] ()\n",
      "2023-05-10 15:04:12,150 INFO sqlalchemy.engine.Engine ROLLBACK\n"
     ]
    }
   ],
   "source": [
    "with Session(db_engine) as session:\n",
    "    projektai = session.query(Projektas).all()"
   ]
  },
  {
   "cell_type": "code",
   "execution_count": 27,
   "metadata": {},
   "outputs": [
    {
     "name": "stdout",
     "output_type": "stream",
     "text": [
      "[(1, Python Kursai Pradedantiesiems, 2000.0, 2023-05-10 11:58:34.558563), (2, Duomenų Bazių su Python kursas, 5000.0, 2023-05-10 12:01:32.852176), (3, Frontendo kursai: HTML, CSS, 1500.0, 2023-05-10 12:01:32.854908), (4, Django kursas, 7000.0, 2023-05-10 12:01:32.857173)]\n"
     ]
    }
   ],
   "source": [
    "print(projektai)"
   ]
  },
  {
   "cell_type": "code",
   "execution_count": 28,
   "metadata": {},
   "outputs": [
    {
     "name": "stdout",
     "output_type": "stream",
     "text": [
      "(1, Python Kursai Pradedantiesiems, 2000.0, 2023-05-10 11:58:34.558563)\n",
      "(2, Duomenų Bazių su Python kursas, 5000.0, 2023-05-10 12:01:32.852176)\n",
      "(3, Frontendo kursai: HTML, CSS, 1500.0, 2023-05-10 12:01:32.854908)\n",
      "(4, Django kursas, 7000.0, 2023-05-10 12:01:32.857173)\n"
     ]
    }
   ],
   "source": [
    "for projektas in projektai:\n",
    "    print(projektas)"
   ]
  },
  {
   "cell_type": "code",
   "execution_count": 29,
   "metadata": {},
   "outputs": [
    {
     "name": "stdout",
     "output_type": "stream",
     "text": [
      "2023-05-10 15:06:45,221 INFO sqlalchemy.engine.Engine BEGIN (implicit)\n",
      "2023-05-10 15:06:45,224 INFO sqlalchemy.engine.Engine SELECT projektas.id AS projektas_id, projektas.name AS projektas_name, projektas.price AS projektas_price, projektas.created AS projektas_created \n",
      "FROM projektas \n",
      "WHERE projektas.name = ?\n",
      "2023-05-10 15:06:45,225 INFO sqlalchemy.engine.Engine [generated in 0.00161s] ('Django kursas',)\n",
      "2023-05-10 15:06:45,228 INFO sqlalchemy.engine.Engine ROLLBACK\n",
      "(4, Django kursas, 7000.0, 2023-05-10 12:01:32.857173)\n"
     ]
    }
   ],
   "source": [
    "with Session(db_engine) as session:\n",
    "    django_kursas = session.query(Projektas).filter_by(name=\"Django kursas\").one()\n",
    "print(django_kursas)"
   ]
  },
  {
   "cell_type": "code",
   "execution_count": 33,
   "metadata": {},
   "outputs": [
    {
     "name": "stdout",
     "output_type": "stream",
     "text": [
      "2023-05-10 15:10:38,193 INFO sqlalchemy.engine.Engine BEGIN (implicit)\n",
      "2023-05-10 15:10:38,196 INFO sqlalchemy.engine.Engine SELECT projektas.id AS projektas_id, projektas.name AS projektas_name, projektas.price AS projektas_price, projektas.created AS projektas_created \n",
      "FROM projektas \n",
      "WHERE projektas.price <= ? ORDER BY projektas.price\n",
      "2023-05-10 15:10:38,197 INFO sqlalchemy.engine.Engine [cached since 53.37s ago] (3000,)\n",
      "2023-05-10 15:10:38,199 INFO sqlalchemy.engine.Engine ROLLBACK\n",
      "1500.0 Frontendo kursai: HTML, CSS\n",
      "2000.0 Python Kursai Pradedantiesiems\n"
     ]
    }
   ],
   "source": [
    "with Session(db_engine) as session:\n",
    "    pigus = session.query(Projektas).filter(Projektas.price <= 3000)\n",
    "    pigus = pigus.order_by(Projektas.price).all()\n",
    "for projektas in pigus:\n",
    "    print(projektas.price, projektas.name)"
   ]
  },
  {
   "cell_type": "code",
   "execution_count": 43,
   "metadata": {},
   "outputs": [
    {
     "name": "stdout",
     "output_type": "stream",
     "text": [
      "2023-05-10 15:17:57,038 INFO sqlalchemy.engine.Engine BEGIN (implicit)\n",
      "2023-05-10 15:17:57,040 INFO sqlalchemy.engine.Engine SELECT projektas.id AS projektas_id, projektas.name AS projektas_name, projektas.price AS projektas_price, projektas.created AS projektas_created \n",
      "FROM projektas \n",
      "WHERE lower(projektas.name) LIKE lower(?)\n",
      "2023-05-10 15:17:57,042 INFO sqlalchemy.engine.Engine [cached since 256s ago] ('%Python%',)\n",
      "2023-05-10 15:17:57,046 INFO sqlalchemy.engine.Engine ROLLBACK\n",
      "(1, Python Kursai Pradedantiesiems, 4000.0, 2023-05-10 11:58:34.558563)\n",
      "(2, Duomenų Bazių su Python kursas, 5000.0, 2023-05-10 12:01:32.852176)\n"
     ]
    }
   ],
   "source": [
    "with Session(db_engine) as session:\n",
    "    kursai = session.query(Projektas)\n",
    "    kursai = kursai.filter(Projektas.name.ilike(\"%Python%\")).all()\n",
    "for kursas in kursai:\n",
    "    print(kursas)"
   ]
  },
  {
   "cell_type": "code",
   "execution_count": 40,
   "metadata": {},
   "outputs": [
    {
     "name": "stdout",
     "output_type": "stream",
     "text": [
      "2023-05-10 15:16:45,712 INFO sqlalchemy.engine.Engine BEGIN (implicit)\n",
      "2023-05-10 15:16:45,715 INFO sqlalchemy.engine.Engine SELECT projektas.id AS projektas_id, projektas.name AS projektas_name, projektas.price AS projektas_price, projektas.created AS projektas_created \n",
      "FROM projektas \n",
      "WHERE lower(projektas.name) LIKE lower(?)\n",
      "2023-05-10 15:16:45,716 INFO sqlalchemy.engine.Engine [cached since 184.7s ago] ('%Python%',)\n",
      "(1, Python Kursai Pradedantiesiems, 4000, 2023-05-10 11:58:34.558563)\n",
      "2023-05-10 15:16:45,721 INFO sqlalchemy.engine.Engine UPDATE projektas SET price=? WHERE projektas.id = ?\n",
      "2023-05-10 15:16:45,722 INFO sqlalchemy.engine.Engine [generated in 0.00132s] (4000.0, 1)\n",
      "2023-05-10 15:16:45,723 INFO sqlalchemy.engine.Engine COMMIT\n"
     ]
    }
   ],
   "source": [
    "with Session(db_engine) as session:\n",
    "    kursai = session.query(Projektas)\n",
    "    kursai = kursai.filter(Projektas.name.ilike(\"%Python%\")).all()\n",
    "    kursai[0].price = 4000\n",
    "    print(kursai[0])\n",
    "    session.commit()"
   ]
  },
  {
   "cell_type": "code",
   "execution_count": 44,
   "metadata": {},
   "outputs": [
    {
     "name": "stdout",
     "output_type": "stream",
     "text": [
      "(1, Python Kursai Pradedantiesiems, 3000, 2023-05-10 11:58:34.558563)\n"
     ]
    }
   ],
   "source": [
    "with Session(db_engine) as session:\n",
    "    print(projektas)\n",
    "    projektas.price = 3000\n",
    "    session.commit()"
   ]
  },
  {
   "cell_type": "code",
   "execution_count": 45,
   "metadata": {},
   "outputs": [
    {
     "name": "stdout",
     "output_type": "stream",
     "text": [
      "2023-05-10 15:21:56,778 INFO sqlalchemy.engine.Engine BEGIN (implicit)\n",
      "2023-05-10 15:21:56,781 INFO sqlalchemy.engine.Engine SELECT projektas.id AS projektas_id, projektas.name AS projektas_name, projektas.price AS projektas_price, projektas.created AS projektas_created \n",
      "FROM projektas \n",
      "WHERE projektas.name LIKE ?\n",
      "2023-05-10 15:21:56,782 INFO sqlalchemy.engine.Engine [generated in 0.00103s] ('%Django%',)\n",
      "(4, Django kursas, 7000.0, 2023-05-10 12:01:32.857173)\n"
     ]
    }
   ],
   "source": [
    "from sqlalchemy.orm import sessionmaker\n",
    "session = sessionmaker(bind=db_engine)()\n",
    "\n",
    "projektas = session.query(Projektas).filter(Projektas.name.like(\"%Django%\")).one()\n",
    "print(projektas)"
   ]
  },
  {
   "cell_type": "code",
   "execution_count": 46,
   "metadata": {},
   "outputs": [
    {
     "name": "stdout",
     "output_type": "stream",
     "text": [
      "2023-05-10 15:22:29,747 INFO sqlalchemy.engine.Engine UPDATE projektas SET price=? WHERE projektas.id = ?\n",
      "2023-05-10 15:22:29,752 INFO sqlalchemy.engine.Engine [cached since 344s ago] (7775.0, 4)\n",
      "2023-05-10 15:22:29,755 INFO sqlalchemy.engine.Engine COMMIT\n"
     ]
    }
   ],
   "source": [
    "projektas.price = 7775\n",
    "session.commit()"
   ]
  },
  {
   "attachments": {},
   "cell_type": "markdown",
   "metadata": {},
   "source": [
    "## susijusios lenteles - tevai/vaikai"
   ]
  },
  {
   "cell_type": "code",
   "execution_count": 6,
   "metadata": {},
   "outputs": [],
   "source": [
    "from typing import Any\n",
    "\n",
    "\n",
    "class Base(DeclarativeBase):\n",
    "    pass"
   ]
  },
  {
   "cell_type": "code",
   "execution_count": 8,
   "metadata": {},
   "outputs": [],
   "source": [
    "engine = create_engine('sqlite:///m21_seima.db')\n",
    "session = sessionmaker(bind=engine)()"
   ]
  },
  {
   "cell_type": "code",
   "execution_count": 9,
   "metadata": {},
   "outputs": [],
   "source": [
    "class Tevas(Base):\n",
    "    __tablename__ = \"tevas\"\n",
    "    id = mapped_column(Integer, primary_key=True)\n",
    "    vardas = mapped_column(\"vardas\", String(50))\n",
    "    pavarde = mapped_column(\"pavarde\", String(50))\n",
    "    vaikai = relationship(\"Vaikas\", back_populates=\"tevas\")\n",
    "\n",
    "\n",
    "class Vaikas(Base):\n",
    "    __tablename__ = \"vaikas\"\n",
    "    id = mapped_column(Integer, primary_key=True)\n",
    "    vardas = mapped_column(\"vardas\", String(50))\n",
    "    pavarde = mapped_column(\"pavarde\", String(50))\n",
    "    mokykla = mapped_column(\"mokykla\", String(50))\n",
    "    tevas_id = mapped_column(Integer, ForeignKey(\"tevas.id\"))\n",
    "    tevas = relationship(\"Tevas\", back_populates=\"vaikai\")\n",
    "\n",
    "\n",
    "Base.metadata.create_all(engine)"
   ]
  },
  {
   "cell_type": "code",
   "execution_count": 10,
   "metadata": {},
   "outputs": [],
   "source": [
    "kestutis = Tevas(vardas=\"Kestutis\", pavarde=\"J\")\n",
    "emilija = Vaikas(vardas=\"Emilija\", pavarde=\"J\", mokykla=\"gera\", tevas=kestutis)\n",
    "maja = Vaikas(vardas=\"Maja\", pavarde=\"J\")\n",
    "marco = Vaikas(vardas=\"Marco\", pavarde=\"J\")\n",
    "kestutis.vaikai.append(maja)\n",
    "marco.tevas = kestutis\n",
    "session.add_all([kestutis, emilija, maja, marco])\n",
    "session.commit()"
   ]
  },
  {
   "cell_type": "code",
   "execution_count": 26,
   "metadata": {},
   "outputs": [
    {
     "name": "stdout",
     "output_type": "stream",
     "text": [
      "Kestutis\n"
     ]
    }
   ],
   "source": [
    "tevas = session.query(Tevas).first()\n",
    "print(tevas.vardas)"
   ]
  },
  {
   "cell_type": "code",
   "execution_count": 27,
   "metadata": {},
   "outputs": [
    {
     "name": "stdout",
     "output_type": "stream",
     "text": [
      "Marco J\n"
     ]
    }
   ],
   "source": [
    "for vaikas in tevas.vaikai:\n",
    "    print(vaikas.vardas, vaikas.pavarde)"
   ]
  },
  {
   "cell_type": "code",
   "execution_count": 14,
   "metadata": {},
   "outputs": [],
   "source": [
    "tevas.vaikai[1].pavarde = \"Ja\"\n",
    "session.commit()"
   ]
  },
  {
   "cell_type": "code",
   "execution_count": 25,
   "metadata": {},
   "outputs": [
    {
     "name": "stdout",
     "output_type": "stream",
     "text": [
      "Emilija None\n",
      "Maja None\n",
      "Marco <__main__.Tevas object at 0x7fa1aad07d00>\n"
     ]
    }
   ],
   "source": [
    "visi_vaikai = session.query(Vaikas).all()\n",
    "for vaikas in visi_vaikai:\n",
    "    print(vaikas.vardas, vaikas.tevas)"
   ]
  },
  {
   "cell_type": "code",
   "execution_count": 22,
   "metadata": {},
   "outputs": [],
   "source": [
    "tevas.vaikai.remove(visi_vaikai[1])\n",
    "session.commit()"
   ]
  },
  {
   "cell_type": "code",
   "execution_count": null,
   "metadata": {},
   "outputs": [],
   "source": [
    "visi_vaikai[0].tevas = None\n",
    "session.commit()"
   ]
  }
 ],
 "metadata": {
  "kernelspec": {
   "display_name": "venv",
   "language": "python",
   "name": "python3"
  },
  "language_info": {
   "codemirror_mode": {
    "name": "ipython",
    "version": 3
   },
   "file_extension": ".py",
   "mimetype": "text/x-python",
   "name": "python",
   "nbconvert_exporter": "python",
   "pygments_lexer": "ipython3",
   "version": "3.11.3"
  },
  "orig_nbformat": 4
 },
 "nbformat": 4,
 "nbformat_minor": 2
}
