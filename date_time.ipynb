{
 "cells": [
  {
   "cell_type": "code",
   "execution_count": 4,
   "metadata": {},
   "outputs": [
    {
     "name": "stdout",
     "output_type": "stream",
     "text": [
      "42:14\n"
     ]
    }
   ],
   "source": [
    "#pirma uzduotis\n",
    "\n",
    "from datetime import datetime\n",
    "now = datetime.now()\n",
    "time = now.strftime(\"%M:%S\")\n",
    "print(time)"
   ]
  },
  {
   "cell_type": "code",
   "execution_count": null,
   "metadata": {},
   "outputs": [],
   "source": [
    "#antra uzduotis\n",
    "\n",
    "from datetime import datetime, timedelta\n",
    "\n",
    "def dienos_iki_gimtadienio(gimimo_data):\n",
    "    gimimo_data_format = datetime.strptime(gimimo_data, \"%Y-%m-%d\")\n",
    "    siandiena = datetime.now()\n",
    "    gimtadienio_data = gimimo_data_format.replace(year=siandiena.year)\n",
    "\n",
    "    if gimtadienio_data < siandiena:\n",
    "        gimtadienio_data = gimtadienio_data.replace(year=siandiena.year + 1)\n",
    "\n",
    "    skirtumas = gimtadienio_data - siandiena\n",
    "    return skirtumas.days\n",
    "\n",
    "gimimo_data = \"2000-05-15\"\n",
    "print(f\"Liko {dienos_iki_gimtadienio(gimimo_data)} dienos (-ų) iki gimtadienio.\")"
   ]
  },
  {
   "cell_type": "code",
   "execution_count": 21,
   "metadata": {},
   "outputs": [
    {
     "name": "stdout",
     "output_type": "stream",
     "text": [
      "Pridėjus 48 valandas: 2023-05-23 15:30\n"
     ]
    }
   ],
   "source": [
    "#trecia uzduotis\n",
    "\n",
    "from datetime import datetime, timedelta\n",
    "\n",
    "def prideti_48_valandas(data_laikas):\n",
    "    format_string = \"%Y-%m-%d %H:%M\"\n",
    "    date_object = datetime.strptime(data_laikas, format_string)\n",
    "    naujas_date_object = date_object + timedelta(hours=48)\n",
    "    naujas_data_laikas = naujas_date_object.strftime(format_string)\n",
    "    return naujas_data_laikas\n",
    "\n",
    "data_laikas = \"2023-05-21 15:30\"\n",
    "print(f\"Pridėjus 48 valandas: {prideti_48_valandas(data_laikas)}\")\n"
   ]
  },
  {
   "cell_type": "code",
   "execution_count": 22,
   "metadata": {},
   "outputs": [
    {
     "name": "stdout",
     "output_type": "stream",
     "text": [
      "Laikotarpių skirtumas dienomis: 30\n"
     ]
    }
   ],
   "source": [
    "#ketvirta uzduotis\n",
    "\n",
    "from datetime import datetime\n",
    "\n",
    "def skirtumas_dienomis(timestamp1, timestamp2):\n",
    "    date_object1 = datetime.fromtimestamp(timestamp1)\n",
    "    date_object2 = datetime.fromtimestamp(timestamp2)\n",
    "    skirtumas = abs(date_object2 - date_object1)\n",
    "    return skirtumas.days\n",
    "\n",
    "timestamp1 = 1671395400\n",
    "timestamp2 = 1674000000\n",
    "print(f\"Laikotarpių skirtumas dienomis: {skirtumas_dienomis(timestamp1, timestamp2)}\")"
   ]
  },
  {
   "cell_type": "code",
   "execution_count": 23,
   "metadata": {},
   "outputs": [
    {
     "name": "stdout",
     "output_type": "stream",
     "text": [
      "Ši data yra Ketvirtadienis\n"
     ]
    }
   ],
   "source": [
    "#penkta uzduotis\n",
    "\n",
    "from datetime import datetime\n",
    "\n",
    "def savaites_diena(data):\n",
    "    format_string = \"%Y-%m-%d\"\n",
    "    date_object = datetime.strptime(data, format_string)\n",
    "    dienos = [\"Pirmadienis\", \"Antradienis\", \"Trečiadienis\", \"Ketvirtadienis\", \"Penktadienis\", \"Šeštadienis\", \"Sekmadienis\"]\n",
    "    return dienos[date_object.weekday()]\n",
    "\n",
    "data = \"2023-06-01\"\n",
    "print(f\"Ši data yra {savaites_diena(data)}\")"
   ]
  }
 ],
 "metadata": {
  "kernelspec": {
   "display_name": "venv",
   "language": "python",
   "name": "python3"
  },
  "language_info": {
   "codemirror_mode": {
    "name": "ipython",
    "version": 3
   },
   "file_extension": ".py",
   "mimetype": "text/x-python",
   "name": "python",
   "nbconvert_exporter": "python",
   "pygments_lexer": "ipython3",
   "version": "3.11.3"
  },
  "orig_nbformat": 4
 },
 "nbformat": 4,
 "nbformat_minor": 2
}
